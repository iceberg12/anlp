{
  "nbformat": 4,
  "nbformat_minor": 0,
  "metadata": {
    "accelerator": "GPU",
    "colab": {
      "name": "CBOW-TruyenKieu.ipynb",
      "provenance": [],
      "machine_shape": "hm"
    },
    "kernelspec": {
      "display_name": "Python 3",
      "name": "python3"
    }
  },
  "cells": [
    {
      "cell_type": "markdown",
      "metadata": {
        "id": "szeHeJU76CB7"
      },
      "source": [
        "[![Open In Colab](https://colab.research.google.com/assets/colab-badge.svg)](https://colab.research.google.com/github/iceberg12/vietai-anlp/blob/main/Week1_CBOW-TruyenKieu.ipynb)"
      ]
    },
    {
      "cell_type": "code",
      "metadata": {
        "colab": {
          "base_uri": "https://localhost:8080/"
        },
        "id": "Xuw6Pd8LEUFS",
        "outputId": "4c74e6fc-2357-4dbe-f284-1aba76fb6ec2"
      },
      "source": [
        "!wget --no-check-certificate \\\r\n",
        "    https://gist.githubusercontent.com/khacanh/4c4662fa226db87a4664dfc2f70bc63e/raw/5d8a1d890c73a1e92e6898137db28f3dc0676975/kieu.txt \\\r\n",
        "    -O ./kieu.txt"
      ],
      "execution_count": 1,
      "outputs": [
        {
          "output_type": "stream",
          "text": [
            "--2021-01-10 01:28:54--  https://gist.githubusercontent.com/khacanh/4c4662fa226db87a4664dfc2f70bc63e/raw/5d8a1d890c73a1e92e6898137db28f3dc0676975/kieu.txt\n",
            "Resolving gist.githubusercontent.com (gist.githubusercontent.com)... 151.101.0.133, 151.101.64.133, 151.101.128.133, ...\n",
            "Connecting to gist.githubusercontent.com (gist.githubusercontent.com)|151.101.0.133|:443... connected.\n",
            "HTTP request sent, awaiting response... 200 OK\n",
            "Length: 135832 (133K) [text/plain]\n",
            "Saving to: ‘./kieu.txt’\n",
            "\n",
            "./kieu.txt          100%[===================>] 132.65K  --.-KB/s    in 0.04s   \n",
            "\n",
            "2021-01-10 01:28:54 (3.46 MB/s) - ‘./kieu.txt’ saved [135832/135832]\n",
            "\n"
          ],
          "name": "stdout"
        }
      ]
    },
    {
      "cell_type": "code",
      "metadata": {
        "id": "ALXqq2QANIlf"
      },
      "source": [
        "corpus = []\r\n",
        "f = open(\"kieu.txt\", \"r\")\r\n",
        "for line in f:\r\n",
        "  corpus.append(line)"
      ],
      "execution_count": 34,
      "outputs": []
    },
    {
      "cell_type": "code",
      "metadata": {
        "id": "gxOlHUFHH5Xs"
      },
      "source": [
        "from keras.preprocessing.text import Tokenizer\r\n",
        "from keras.preprocessing.sequence import pad_sequences\r\n",
        "from keras.preprocessing.text import text_to_word_sequence"
      ],
      "execution_count": 35,
      "outputs": []
    },
    {
      "cell_type": "code",
      "metadata": {
        "id": "A5s12jhH-bVr"
      },
      "source": [
        "import tensorflow as tf\r\n"
      ],
      "execution_count": 36,
      "outputs": []
    },
    {
      "cell_type": "code",
      "metadata": {
        "id": "CshQRSFu3w9z"
      },
      "source": [
        "for i in range(len(corpus)):\r\n",
        "  corpus[i] = text_to_word_sequence(corpus[i])\r\n"
      ],
      "execution_count": 37,
      "outputs": []
    },
    {
      "cell_type": "code",
      "metadata": {
        "colab": {
          "base_uri": "https://localhost:8080/"
        },
        "id": "6P7JzRy8uuX2",
        "outputId": "545c1cc3-60a1-45f1-e7c1-2e408b2e0f19"
      },
      "source": [
        "corpus[:20]"
      ],
      "execution_count": 38,
      "outputs": [
        {
          "output_type": "execute_result",
          "data": {
            "text/plain": [
              "[['trăm', 'năm', 'trong', 'cõi', 'người', 'ta'],\n",
              " ['chữ', 'tài', 'chữ', 'mệnh', 'khéo', 'là', 'ghét', 'nhau'],\n",
              " ['trải', 'qua', 'một', 'cuộc', 'bể', 'dâu'],\n",
              " ['những', 'điều', 'trông', 'thấy', 'mà', 'đau', 'đớn', 'lòng'],\n",
              " ['lạ', 'gì', 'bỉ', 'sắc', 'tư', 'phong'],\n",
              " ['trời', 'xanh', 'quen', 'thói', 'má', 'hồng', 'đánh', 'ghen'],\n",
              " ['cảo', 'thơm', 'lần', 'giở', 'trước', 'đèn'],\n",
              " ['phong', 'tình', 'có', 'lục', 'còn', 'truyền', 'sử', 'xanh'],\n",
              " ['rằng', 'năm', 'gia', 'tĩnh', 'triều', 'minh'],\n",
              " ['bốn', 'phương', 'phẳng', 'lặng', 'hai', 'kinh', 'vững', 'vàng'],\n",
              " ['có', 'nhà', 'viên', 'ngoại', 'họ', 'vương'],\n",
              " ['gia', 'tư', 'nghĩ', 'cũng', 'thường', 'thường', 'bực', 'trung'],\n",
              " ['một', 'trai', 'con', 'thứ', 'rốt', 'lòng'],\n",
              " ['vương', 'quan', 'là', 'chữ', 'nối', 'dòng', 'nho', 'gia'],\n",
              " ['đầu', 'lòng', 'hai', 'ả', 'tố', 'nga'],\n",
              " ['thúy', 'kiều', 'là', 'chị', 'em', 'là', 'thúy', 'vân'],\n",
              " ['mai', 'cốt', 'cách', 'tuyết', 'tinh', 'thần'],\n",
              " ['một', 'người', 'một', 'vẻ', 'mười', 'phân', 'vẹn', 'mười'],\n",
              " ['vân', 'xem', 'trang', 'trọng', 'khác', 'vời'],\n",
              " ['khuôn', 'trăng', 'đầy', 'đặn', 'nét', 'ngài', 'nở', 'nang']]"
            ]
          },
          "metadata": {
            "tags": []
          },
          "execution_count": 38
        }
      ]
    },
    {
      "cell_type": "code",
      "metadata": {
        "id": "n_WtCMQW6hJe"
      },
      "source": [
        "import random\n",
        "idx = list(range(len(corpus)))\n",
        "random.Random(12).shuffle(idx)\n",
        "test_ratio = 0.1\n",
        "test_idx = idx[:int(test_ratio*len(idx))]\n",
        "train_idx = idx[int(test_ratio*len(idx)):]\n",
        "corpus_train = [corpus[i] for i in train_idx]\n",
        "corpus_test = [corpus[i] for i in test_idx]\n"
      ],
      "execution_count": 39,
      "outputs": []
    },
    {
      "cell_type": "code",
      "metadata": {
        "id": "Rn9QEgJmIDcy"
      },
      "source": [
        "tokenizer = Tokenizer(oov_token='<OOV>')\r\n",
        "tokenizer.fit_on_texts(corpus_train)\r\n",
        "w2id = tokenizer.word_index"
      ],
      "execution_count": 40,
      "outputs": []
    },
    {
      "cell_type": "code",
      "metadata": {
        "id": "JZcHsxfh7ZIe",
        "outputId": "3a9b9c9b-23d0-4f40-879a-59cb45d2668e",
        "colab": {
          "base_uri": "https://localhost:8080/"
        }
      },
      "source": [
        "len(corpus_train)"
      ],
      "execution_count": 41,
      "outputs": [
        {
          "output_type": "execute_result",
          "data": {
            "text/plain": [
              "2929"
            ]
          },
          "metadata": {
            "tags": []
          },
          "execution_count": 41
        }
      ]
    },
    {
      "cell_type": "code",
      "metadata": {
        "colab": {
          "base_uri": "https://localhost:8080/"
        },
        "id": "ScOeeM_6JO29",
        "outputId": "977d4038-4bc1-4288-bbbd-eeb28d2591c8"
      },
      "source": [
        "len(w2id)"
      ],
      "execution_count": 42,
      "outputs": [
        {
          "output_type": "execute_result",
          "data": {
            "text/plain": [
              "2338"
            ]
          },
          "metadata": {
            "tags": []
          },
          "execution_count": 42
        }
      ]
    },
    {
      "cell_type": "code",
      "metadata": {
        "id": "5MLxM5EC9L6K",
        "outputId": "436e2db5-b406-439e-b949-d4dd825db73f",
        "colab": {
          "base_uri": "https://localhost:8080/"
        }
      },
      "source": [
        "w2id['<OOV>']"
      ],
      "execution_count": 49,
      "outputs": [
        {
          "output_type": "execute_result",
          "data": {
            "text/plain": [
              "1"
            ]
          },
          "metadata": {
            "tags": []
          },
          "execution_count": 49
        }
      ]
    },
    {
      "cell_type": "code",
      "metadata": {
        "id": "5BH10tUx0urk"
      },
      "source": [
        "from tensorflow.keras.utils import to_categorical"
      ],
      "execution_count": 43,
      "outputs": []
    },
    {
      "cell_type": "code",
      "metadata": {
        "id": "pissk0456R68"
      },
      "source": [
        "vocab_size = len(tokenizer.word_index) + 1\r\n",
        "window_size = 2"
      ],
      "execution_count": 44,
      "outputs": []
    },
    {
      "cell_type": "code",
      "metadata": {
        "id": "UVYlisjiJWu8"
      },
      "source": [
        "import numpy as np\r\n",
        "def generate_pairs(window_size, corpus):\r\n",
        "\r\n",
        "  X = []\r\n",
        "  y = []\r\n",
        "  for words in corpus:\r\n",
        "    start = 0\r\n",
        "    while start + window_size * 2 < len(words):\r\n",
        "      end = start + window_size * 2\r\n",
        "      tar_i = start + window_size\r\n",
        "      x = [\" \".join(words[start:tar_i] + words[tar_i+1:end+1])]\r\n",
        "      label = words[tar_i]\r\n",
        "      # print(words)\r\n",
        "      # print(x, \"--->\", label)\r\n",
        "      start += 1\r\n",
        "      X.append(tokenizer.texts_to_sequences(x)[0])\r\n",
        "      y.append(to_categorical( w2id.get(label, w2id['<OOV>']), len(w2id) + 1))\r\n",
        "\r\n",
        "  return tf.convert_to_tensor(X) , tf.convert_to_tensor(y)\r\n"
      ],
      "execution_count": 50,
      "outputs": []
    },
    {
      "cell_type": "code",
      "metadata": {
        "id": "oNYKyw5z1Rjl"
      },
      "source": [
        "X_train, y_train = generate_pairs(window_size, corpus_train)\r\n",
        "X_test, y_test = generate_pairs(window_size, corpus_test)\r\n"
      ],
      "execution_count": 51,
      "outputs": []
    },
    {
      "cell_type": "code",
      "metadata": {
        "id": "GvRw8Hva5bd7"
      },
      "source": [
        "from tensorflow.keras.models import Sequential\r\n",
        "from tensorflow.keras.layers import Dense, Embedding, Lambda\r\n",
        "from tensorflow.keras.backend import mean \r\n"
      ],
      "execution_count": 52,
      "outputs": []
    },
    {
      "cell_type": "code",
      "metadata": {
        "colab": {
          "base_uri": "https://localhost:8080/"
        },
        "id": "Vl8WczPIPR3f",
        "outputId": "721b2bff-b44f-4eb4-b0e8-a161002956c3"
      },
      "source": [
        "X_train[0], y_train[0]"
      ],
      "execution_count": 53,
      "outputs": [
        {
          "output_type": "execute_result",
          "data": {
            "text/plain": [
              "(<tf.Tensor: shape=(4,), dtype=int32, numpy=array([ 137,  121, 1653,   92], dtype=int32)>,\n",
              " <tf.Tensor: shape=(2339,), dtype=float32, numpy=array([0., 0., 0., ..., 0., 0., 0.], dtype=float32)>)"
            ]
          },
          "metadata": {
            "tags": []
          },
          "execution_count": 53
        }
      ]
    },
    {
      "cell_type": "code",
      "metadata": {
        "colab": {
          "base_uri": "https://localhost:8080/"
        },
        "id": "NNDA5B5mxE4t",
        "outputId": "c0037e53-bc8e-4d08-ada9-699e7b6c1ca1"
      },
      "source": [
        "vocab_size"
      ],
      "execution_count": 54,
      "outputs": [
        {
          "output_type": "execute_result",
          "data": {
            "text/plain": [
              "2339"
            ]
          },
          "metadata": {
            "tags": []
          },
          "execution_count": 54
        }
      ]
    },
    {
      "cell_type": "code",
      "metadata": {
        "id": "oKZYBYmEMTEa"
      },
      "source": [
        "\n",
        "\n",
        "# vocab_size x embedding_size\n",
        "\n"
      ],
      "execution_count": 55,
      "outputs": []
    },
    {
      "cell_type": "code",
      "metadata": {
        "id": "Rbw3UJV_5lpN"
      },
      "source": [
        "embedding_size = 128\r\n",
        "cbow = Sequential()\r\n",
        "cbow.add(Embedding(input_dim=vocab_size, output_dim=embedding_size, input_length=window_size*2))\r\n",
        "cbow.add(Lambda(lambda x: mean(x, axis=1), output_shape=(embedding_size,) ))\r\n",
        "cbow.add(Dense(vocab_size, activation='softmax'))\r\n",
        "\r\n",
        "cbow.compile(loss='categorical_crossentropy', optimizer='adam', metrics=['acc'])"
      ],
      "execution_count": 56,
      "outputs": []
    },
    {
      "cell_type": "code",
      "metadata": {
        "id": "kjHxO7PE6d6C",
        "colab": {
          "base_uri": "https://localhost:8080/"
        },
        "outputId": "73920dbe-5c80-4d7a-9d92-5e1a1105c89b"
      },
      "source": [
        "cbow.summary()"
      ],
      "execution_count": 57,
      "outputs": [
        {
          "output_type": "stream",
          "text": [
            "Model: \"sequential\"\n",
            "_________________________________________________________________\n",
            "Layer (type)                 Output Shape              Param #   \n",
            "=================================================================\n",
            "embedding (Embedding)        (None, 4, 128)            299392    \n",
            "_________________________________________________________________\n",
            "lambda (Lambda)              (None, 128)               0         \n",
            "_________________________________________________________________\n",
            "dense (Dense)                (None, 2339)              301731    \n",
            "=================================================================\n",
            "Total params: 601,123\n",
            "Trainable params: 601,123\n",
            "Non-trainable params: 0\n",
            "_________________________________________________________________\n"
          ],
          "name": "stdout"
        }
      ]
    },
    {
      "cell_type": "code",
      "metadata": {
        "id": "SJ2uAfMu9kMw",
        "outputId": "87522802-4049-487e-8d04-b8d2dbc3e3cb",
        "colab": {
          "base_uri": "https://localhost:8080/"
        }
      },
      "source": [
        "cbow.fit(X_train, y_train, epochs=30, verbose=1, validation_data=(X_test,y_test))"
      ],
      "execution_count": 58,
      "outputs": [
        {
          "output_type": "stream",
          "text": [
            "Epoch 1/30\n",
            "275/275 [==============================] - 4s 7ms/step - loss: 7.6829 - acc: 0.0153 - val_loss: 7.1157 - val_acc: 0.0195\n",
            "Epoch 2/30\n",
            "275/275 [==============================] - 2s 6ms/step - loss: 6.8239 - acc: 0.0207 - val_loss: 6.9755 - val_acc: 0.0195\n",
            "Epoch 3/30\n",
            "275/275 [==============================] - 2s 6ms/step - loss: 6.6276 - acc: 0.0203 - val_loss: 6.9761 - val_acc: 0.0195\n",
            "Epoch 4/30\n",
            "275/275 [==============================] - 2s 6ms/step - loss: 6.5248 - acc: 0.0271 - val_loss: 6.9742 - val_acc: 0.0215\n",
            "Epoch 5/30\n",
            "275/275 [==============================] - 2s 6ms/step - loss: 6.3753 - acc: 0.0334 - val_loss: 6.9617 - val_acc: 0.0287\n",
            "Epoch 6/30\n",
            "275/275 [==============================] - 2s 6ms/step - loss: 6.2689 - acc: 0.0446 - val_loss: 6.9459 - val_acc: 0.0318\n",
            "Epoch 7/30\n",
            "275/275 [==============================] - 2s 6ms/step - loss: 6.0433 - acc: 0.0625 - val_loss: 6.9148 - val_acc: 0.0369\n",
            "Epoch 8/30\n",
            "275/275 [==============================] - 2s 6ms/step - loss: 5.7864 - acc: 0.0804 - val_loss: 6.8819 - val_acc: 0.0410\n",
            "Epoch 9/30\n",
            "275/275 [==============================] - 2s 6ms/step - loss: 5.4636 - acc: 0.1062 - val_loss: 6.8468 - val_acc: 0.0492\n",
            "Epoch 10/30\n",
            "275/275 [==============================] - 2s 6ms/step - loss: 5.1686 - acc: 0.1385 - val_loss: 6.8197 - val_acc: 0.0471\n",
            "Epoch 11/30\n",
            "275/275 [==============================] - 2s 6ms/step - loss: 4.8052 - acc: 0.1722 - val_loss: 6.7941 - val_acc: 0.0482\n",
            "Epoch 12/30\n",
            "275/275 [==============================] - 2s 6ms/step - loss: 4.4005 - acc: 0.2283 - val_loss: 6.7827 - val_acc: 0.0502\n",
            "Epoch 13/30\n",
            "275/275 [==============================] - 2s 6ms/step - loss: 4.0663 - acc: 0.2665 - val_loss: 6.7874 - val_acc: 0.0533\n",
            "Epoch 14/30\n",
            "275/275 [==============================] - 2s 6ms/step - loss: 3.6803 - acc: 0.3259 - val_loss: 6.7976 - val_acc: 0.0584\n",
            "Epoch 15/30\n",
            "275/275 [==============================] - 2s 6ms/step - loss: 3.3619 - acc: 0.3718 - val_loss: 6.8214 - val_acc: 0.0605\n",
            "Epoch 16/30\n",
            "275/275 [==============================] - 2s 6ms/step - loss: 3.0316 - acc: 0.4254 - val_loss: 6.8537 - val_acc: 0.0635\n",
            "Epoch 17/30\n",
            "275/275 [==============================] - 2s 6ms/step - loss: 2.7373 - acc: 0.4793 - val_loss: 6.8977 - val_acc: 0.0666\n",
            "Epoch 18/30\n",
            "275/275 [==============================] - 2s 6ms/step - loss: 2.4397 - acc: 0.5402 - val_loss: 6.9470 - val_acc: 0.0635\n",
            "Epoch 19/30\n",
            "275/275 [==============================] - 2s 6ms/step - loss: 2.1875 - acc: 0.5895 - val_loss: 6.9997 - val_acc: 0.0656\n",
            "Epoch 20/30\n",
            "275/275 [==============================] - 2s 6ms/step - loss: 1.9538 - acc: 0.6417 - val_loss: 7.0614 - val_acc: 0.0605\n",
            "Epoch 21/30\n",
            "275/275 [==============================] - 2s 6ms/step - loss: 1.7630 - acc: 0.6803 - val_loss: 7.1280 - val_acc: 0.0615\n",
            "Epoch 22/30\n",
            "275/275 [==============================] - 2s 6ms/step - loss: 1.5730 - acc: 0.7287 - val_loss: 7.1987 - val_acc: 0.0605\n",
            "Epoch 23/30\n",
            "275/275 [==============================] - 2s 6ms/step - loss: 1.4118 - acc: 0.7602 - val_loss: 7.2684 - val_acc: 0.0635\n",
            "Epoch 24/30\n",
            "275/275 [==============================] - 2s 6ms/step - loss: 1.2749 - acc: 0.7877 - val_loss: 7.3448 - val_acc: 0.0635\n",
            "Epoch 25/30\n",
            "275/275 [==============================] - 2s 6ms/step - loss: 1.1337 - acc: 0.8201 - val_loss: 7.4232 - val_acc: 0.0625\n",
            "Epoch 26/30\n",
            "275/275 [==============================] - 2s 6ms/step - loss: 1.0283 - acc: 0.8395 - val_loss: 7.5025 - val_acc: 0.0645\n",
            "Epoch 27/30\n",
            "275/275 [==============================] - 2s 6ms/step - loss: 0.8938 - acc: 0.8734 - val_loss: 7.5822 - val_acc: 0.0666\n",
            "Epoch 28/30\n",
            "275/275 [==============================] - 2s 6ms/step - loss: 0.8185 - acc: 0.8819 - val_loss: 7.6685 - val_acc: 0.0666\n",
            "Epoch 29/30\n",
            "275/275 [==============================] - 2s 6ms/step - loss: 0.7238 - acc: 0.9073 - val_loss: 7.7517 - val_acc: 0.0686\n",
            "Epoch 30/30\n",
            "275/275 [==============================] - 2s 6ms/step - loss: 0.6501 - acc: 0.9215 - val_loss: 7.8382 - val_acc: 0.0697\n"
          ],
          "name": "stdout"
        },
        {
          "output_type": "execute_result",
          "data": {
            "text/plain": [
              "<tensorflow.python.keras.callbacks.History at 0x7f3bee3f6320>"
            ]
          },
          "metadata": {
            "tags": []
          },
          "execution_count": 58
        }
      ]
    },
    {
      "cell_type": "code",
      "metadata": {
        "id": "sLmQe29O7gac",
        "colab": {
          "base_uri": "https://localhost:8080/",
          "height": 35
        },
        "outputId": "7f8d440b-6273-4bbd-fda2-ceb9db7836dc"
      },
      "source": [
        "example = 'Trăm năm cõi người'\r\n",
        "example = text_to_word_sequence(example)\r\n",
        "example = tokenizer.texts_to_sequences([example])\r\n",
        "example = tf.convert_to_tensor(example)\r\n",
        "cbow.predict(example)\r\n",
        "tokenizer.index_word[np.argmax(cbow.predict(example))]"
      ],
      "execution_count": 61,
      "outputs": [
        {
          "output_type": "execute_result",
          "data": {
            "application/vnd.google.colaboratory.intrinsic+json": {
              "type": "string"
            },
            "text/plain": [
              "'trong'"
            ]
          },
          "metadata": {
            "tags": []
          },
          "execution_count": 61
        }
      ]
    },
    {
      "cell_type": "code",
      "metadata": {
        "id": "GZewJC-x-N2a",
        "outputId": "12720166-de1f-426c-cc24-4b170a778e80",
        "colab": {
          "base_uri": "https://localhost:8080/"
        }
      },
      "source": [
        "corpus_test[0]"
      ],
      "execution_count": 63,
      "outputs": [
        {
          "output_type": "execute_result",
          "data": {
            "text/plain": [
              "['thành', 'thân', 'mới', 'rước', 'xuống', 'thuyền']"
            ]
          },
          "metadata": {
            "tags": []
          },
          "execution_count": 63
        }
      ]
    },
    {
      "cell_type": "code",
      "metadata": {
        "id": "0IVcQvOP-TiA",
        "outputId": "3c094287-ad0d-4481-cd3d-3a2da5a1d670",
        "colab": {
          "base_uri": "https://localhost:8080/",
          "height": 35
        }
      },
      "source": [
        "example = 'thân mới xuống thuyền'\n",
        "example = text_to_word_sequence(example)\n",
        "example = tokenizer.texts_to_sequences([example])\n",
        "example = tf.convert_to_tensor(example)\n",
        "cbow.predict(example)\n",
        "tokenizer.index_word[np.argmax(cbow.predict(example))]"
      ],
      "execution_count": 64,
      "outputs": [
        {
          "output_type": "execute_result",
          "data": {
            "application/vnd.google.colaboratory.intrinsic+json": {
              "type": "string"
            },
            "text/plain": [
              "'biết'"
            ]
          },
          "metadata": {
            "tags": []
          },
          "execution_count": 64
        }
      ]
    },
    {
      "cell_type": "code",
      "metadata": {
        "id": "bj2y1LLvvZTF"
      },
      "source": [
        "weights = cbow.get_weights()[0]"
      ],
      "execution_count": null,
      "outputs": []
    },
    {
      "cell_type": "code",
      "metadata": {
        "colab": {
          "base_uri": "https://localhost:8080/"
        },
        "id": "0cAiLLuowik9",
        "outputId": "e9821740-0389-4bbb-8663-55930c46f747"
      },
      "source": [
        "weights"
      ],
      "execution_count": null,
      "outputs": [
        {
          "output_type": "execute_result",
          "data": {
            "text/plain": [
              "array([[ 0.0318269 , -0.01505174,  0.03639983, ..., -0.02388797,\n",
              "        -0.04805097,  0.01071918],\n",
              "       [-0.05085587,  0.09169063,  0.03570038, ...,  0.0095367 ,\n",
              "         0.02253897, -0.01499532],\n",
              "       [ 0.03044103, -0.05055906,  0.0389102 , ...,  0.02233716,\n",
              "         0.07572004,  0.02428444],\n",
              "       ...,\n",
              "       [ 0.02515461,  0.03420826, -0.04985545, ...,  0.0061751 ,\n",
              "        -0.08323187, -0.09447721],\n",
              "       [ 0.04186383, -0.04836989, -0.00351331, ..., -0.04674897,\n",
              "        -0.07837866,  0.02577955],\n",
              "       [ 0.06217309, -0.00417627,  0.06007205, ..., -0.06049352,\n",
              "        -0.01882677,  0.02589382]], dtype=float32)"
            ]
          },
          "metadata": {
            "tags": []
          },
          "execution_count": 91
        }
      ]
    },
    {
      "cell_type": "code",
      "metadata": {
        "colab": {
          "base_uri": "https://localhost:8080/"
        },
        "id": "zInDOZ6OxMVe",
        "outputId": "15c2e3f3-0116-482f-9914-0cc0b7c63450"
      },
      "source": [
        "vocab_size"
      ],
      "execution_count": null,
      "outputs": [
        {
          "output_type": "execute_result",
          "data": {
            "text/plain": [
              "118"
            ]
          },
          "metadata": {
            "tags": []
          },
          "execution_count": 93
        }
      ]
    },
    {
      "cell_type": "code",
      "metadata": {
        "colab": {
          "base_uri": "https://localhost:8080/"
        },
        "id": "QT74eJ2Xw21t",
        "outputId": "5ff610ed-96ef-40c6-8f6e-1b1d333bcea6"
      },
      "source": [
        "weights.shape"
      ],
      "execution_count": null,
      "outputs": [
        {
          "output_type": "execute_result",
          "data": {
            "text/plain": [
              "(117, 128)"
            ]
          },
          "metadata": {
            "tags": []
          },
          "execution_count": 90
        }
      ]
    },
    {
      "cell_type": "code",
      "metadata": {
        "colab": {
          "base_uri": "https://localhost:8080/"
        },
        "id": "WcSSTkcjx_26",
        "outputId": "62ee219e-fda6-4c77-dbef-8ad6b6f30bd8"
      },
      "source": [
        "len(list(tokenizer.index_word.values()))"
      ],
      "execution_count": null,
      "outputs": [
        {
          "output_type": "execute_result",
          "data": {
            "text/plain": [
              "117"
            ]
          },
          "metadata": {
            "tags": []
          },
          "execution_count": 100
        }
      ]
    },
    {
      "cell_type": "code",
      "metadata": {
        "colab": {
          "base_uri": "https://localhost:8080/",
          "height": 262
        },
        "id": "13bBZ1yWwTDt",
        "outputId": "e16efc49-e3a2-4b04-892c-79fe36ed49cd"
      },
      "source": [
        "import pandas as pd\r\n",
        "weights = cbow.get_weights()[0]\r\n",
        "weights = weights[1:]\r\n",
        "print(weights.shape)\r\n",
        "\r\n",
        "pd.DataFrame(weights, index=list(tokenizer.index_word.values())).head()"
      ],
      "execution_count": null,
      "outputs": [
        {
          "output_type": "stream",
          "text": [
            "(117, 128)\n"
          ],
          "name": "stdout"
        },
        {
          "output_type": "execute_result",
          "data": {
            "text/html": [
              "<div>\n",
              "<style scoped>\n",
              "    .dataframe tbody tr th:only-of-type {\n",
              "        vertical-align: middle;\n",
              "    }\n",
              "\n",
              "    .dataframe tbody tr th {\n",
              "        vertical-align: top;\n",
              "    }\n",
              "\n",
              "    .dataframe thead th {\n",
              "        text-align: right;\n",
              "    }\n",
              "</style>\n",
              "<table border=\"1\" class=\"dataframe\">\n",
              "  <thead>\n",
              "    <tr style=\"text-align: right;\">\n",
              "      <th></th>\n",
              "      <th>0</th>\n",
              "      <th>1</th>\n",
              "      <th>2</th>\n",
              "      <th>3</th>\n",
              "      <th>4</th>\n",
              "      <th>5</th>\n",
              "      <th>6</th>\n",
              "      <th>7</th>\n",
              "      <th>8</th>\n",
              "      <th>9</th>\n",
              "      <th>10</th>\n",
              "      <th>11</th>\n",
              "      <th>12</th>\n",
              "      <th>13</th>\n",
              "      <th>14</th>\n",
              "      <th>15</th>\n",
              "      <th>16</th>\n",
              "      <th>17</th>\n",
              "      <th>18</th>\n",
              "      <th>19</th>\n",
              "      <th>20</th>\n",
              "      <th>21</th>\n",
              "      <th>22</th>\n",
              "      <th>23</th>\n",
              "      <th>24</th>\n",
              "      <th>25</th>\n",
              "      <th>26</th>\n",
              "      <th>27</th>\n",
              "      <th>28</th>\n",
              "      <th>29</th>\n",
              "      <th>30</th>\n",
              "      <th>31</th>\n",
              "      <th>32</th>\n",
              "      <th>33</th>\n",
              "      <th>34</th>\n",
              "      <th>35</th>\n",
              "      <th>36</th>\n",
              "      <th>37</th>\n",
              "      <th>38</th>\n",
              "      <th>39</th>\n",
              "      <th>...</th>\n",
              "      <th>88</th>\n",
              "      <th>89</th>\n",
              "      <th>90</th>\n",
              "      <th>91</th>\n",
              "      <th>92</th>\n",
              "      <th>93</th>\n",
              "      <th>94</th>\n",
              "      <th>95</th>\n",
              "      <th>96</th>\n",
              "      <th>97</th>\n",
              "      <th>98</th>\n",
              "      <th>99</th>\n",
              "      <th>100</th>\n",
              "      <th>101</th>\n",
              "      <th>102</th>\n",
              "      <th>103</th>\n",
              "      <th>104</th>\n",
              "      <th>105</th>\n",
              "      <th>106</th>\n",
              "      <th>107</th>\n",
              "      <th>108</th>\n",
              "      <th>109</th>\n",
              "      <th>110</th>\n",
              "      <th>111</th>\n",
              "      <th>112</th>\n",
              "      <th>113</th>\n",
              "      <th>114</th>\n",
              "      <th>115</th>\n",
              "      <th>116</th>\n",
              "      <th>117</th>\n",
              "      <th>118</th>\n",
              "      <th>119</th>\n",
              "      <th>120</th>\n",
              "      <th>121</th>\n",
              "      <th>122</th>\n",
              "      <th>123</th>\n",
              "      <th>124</th>\n",
              "      <th>125</th>\n",
              "      <th>126</th>\n",
              "      <th>127</th>\n",
              "    </tr>\n",
              "  </thead>\n",
              "  <tbody>\n",
              "    <tr>\n",
              "      <th>&lt;OOV&gt;</th>\n",
              "      <td>0.031827</td>\n",
              "      <td>-0.015052</td>\n",
              "      <td>0.036400</td>\n",
              "      <td>-0.025224</td>\n",
              "      <td>-0.026220</td>\n",
              "      <td>-0.046286</td>\n",
              "      <td>0.019774</td>\n",
              "      <td>-0.008172</td>\n",
              "      <td>0.006869</td>\n",
              "      <td>0.012888</td>\n",
              "      <td>0.019361</td>\n",
              "      <td>0.016363</td>\n",
              "      <td>-0.022348</td>\n",
              "      <td>-0.049530</td>\n",
              "      <td>0.021561</td>\n",
              "      <td>-0.034322</td>\n",
              "      <td>0.035252</td>\n",
              "      <td>-0.036651</td>\n",
              "      <td>-0.034132</td>\n",
              "      <td>-0.047134</td>\n",
              "      <td>0.015056</td>\n",
              "      <td>-0.044091</td>\n",
              "      <td>-0.032397</td>\n",
              "      <td>-0.015606</td>\n",
              "      <td>-0.032107</td>\n",
              "      <td>0.016883</td>\n",
              "      <td>-0.028068</td>\n",
              "      <td>0.035492</td>\n",
              "      <td>-0.046504</td>\n",
              "      <td>0.016070</td>\n",
              "      <td>0.015872</td>\n",
              "      <td>-0.006604</td>\n",
              "      <td>-0.015332</td>\n",
              "      <td>0.014879</td>\n",
              "      <td>-0.032317</td>\n",
              "      <td>-0.009584</td>\n",
              "      <td>0.030967</td>\n",
              "      <td>-0.001324</td>\n",
              "      <td>0.001430</td>\n",
              "      <td>0.029867</td>\n",
              "      <td>...</td>\n",
              "      <td>0.036813</td>\n",
              "      <td>0.003025</td>\n",
              "      <td>0.030064</td>\n",
              "      <td>0.048660</td>\n",
              "      <td>-0.017831</td>\n",
              "      <td>0.045077</td>\n",
              "      <td>-0.000642</td>\n",
              "      <td>0.002372</td>\n",
              "      <td>-0.028924</td>\n",
              "      <td>-0.009973</td>\n",
              "      <td>0.027664</td>\n",
              "      <td>-0.042066</td>\n",
              "      <td>0.033804</td>\n",
              "      <td>-0.006118</td>\n",
              "      <td>-0.014136</td>\n",
              "      <td>-0.029626</td>\n",
              "      <td>0.004874</td>\n",
              "      <td>0.000314</td>\n",
              "      <td>-0.007406</td>\n",
              "      <td>0.028832</td>\n",
              "      <td>-0.011241</td>\n",
              "      <td>0.031732</td>\n",
              "      <td>-0.001889</td>\n",
              "      <td>-0.021923</td>\n",
              "      <td>0.023346</td>\n",
              "      <td>0.045387</td>\n",
              "      <td>0.017919</td>\n",
              "      <td>0.013830</td>\n",
              "      <td>0.029240</td>\n",
              "      <td>-0.042154</td>\n",
              "      <td>-0.014561</td>\n",
              "      <td>-0.044820</td>\n",
              "      <td>0.049010</td>\n",
              "      <td>-0.000719</td>\n",
              "      <td>-0.003991</td>\n",
              "      <td>-0.015966</td>\n",
              "      <td>0.018115</td>\n",
              "      <td>-0.023888</td>\n",
              "      <td>-0.048051</td>\n",
              "      <td>0.010719</td>\n",
              "    </tr>\n",
              "    <tr>\n",
              "      <th>là</th>\n",
              "      <td>-0.050856</td>\n",
              "      <td>0.091691</td>\n",
              "      <td>0.035700</td>\n",
              "      <td>0.079347</td>\n",
              "      <td>-0.067342</td>\n",
              "      <td>-0.055625</td>\n",
              "      <td>-0.062175</td>\n",
              "      <td>-0.068485</td>\n",
              "      <td>-0.007364</td>\n",
              "      <td>0.091895</td>\n",
              "      <td>-0.037921</td>\n",
              "      <td>0.014997</td>\n",
              "      <td>-0.043217</td>\n",
              "      <td>-0.080084</td>\n",
              "      <td>-0.028372</td>\n",
              "      <td>-0.034511</td>\n",
              "      <td>0.000644</td>\n",
              "      <td>-0.030253</td>\n",
              "      <td>-0.039692</td>\n",
              "      <td>-0.082604</td>\n",
              "      <td>0.048632</td>\n",
              "      <td>0.053437</td>\n",
              "      <td>0.072946</td>\n",
              "      <td>0.016293</td>\n",
              "      <td>0.101095</td>\n",
              "      <td>-0.018682</td>\n",
              "      <td>-0.012524</td>\n",
              "      <td>0.092336</td>\n",
              "      <td>0.018907</td>\n",
              "      <td>-0.002526</td>\n",
              "      <td>0.056696</td>\n",
              "      <td>0.054626</td>\n",
              "      <td>0.058131</td>\n",
              "      <td>-0.081643</td>\n",
              "      <td>-0.059354</td>\n",
              "      <td>-0.013012</td>\n",
              "      <td>-0.026246</td>\n",
              "      <td>-0.020010</td>\n",
              "      <td>-0.079771</td>\n",
              "      <td>-0.033148</td>\n",
              "      <td>...</td>\n",
              "      <td>0.079048</td>\n",
              "      <td>-0.083061</td>\n",
              "      <td>-0.075608</td>\n",
              "      <td>0.020159</td>\n",
              "      <td>0.073923</td>\n",
              "      <td>-0.069906</td>\n",
              "      <td>-0.094949</td>\n",
              "      <td>0.045342</td>\n",
              "      <td>-0.072858</td>\n",
              "      <td>0.009398</td>\n",
              "      <td>0.055825</td>\n",
              "      <td>0.109063</td>\n",
              "      <td>0.015088</td>\n",
              "      <td>-0.037631</td>\n",
              "      <td>-0.009864</td>\n",
              "      <td>0.049500</td>\n",
              "      <td>-0.037078</td>\n",
              "      <td>-0.013594</td>\n",
              "      <td>0.014778</td>\n",
              "      <td>0.015310</td>\n",
              "      <td>-0.010169</td>\n",
              "      <td>-0.076756</td>\n",
              "      <td>0.014949</td>\n",
              "      <td>0.053401</td>\n",
              "      <td>-0.109620</td>\n",
              "      <td>0.058109</td>\n",
              "      <td>0.104437</td>\n",
              "      <td>0.056287</td>\n",
              "      <td>-0.011091</td>\n",
              "      <td>0.027131</td>\n",
              "      <td>0.013445</td>\n",
              "      <td>-0.013708</td>\n",
              "      <td>-0.002052</td>\n",
              "      <td>-0.041543</td>\n",
              "      <td>-0.058824</td>\n",
              "      <td>0.051688</td>\n",
              "      <td>-0.015018</td>\n",
              "      <td>0.009537</td>\n",
              "      <td>0.022539</td>\n",
              "      <td>-0.014995</td>\n",
              "    </tr>\n",
              "    <tr>\n",
              "      <th>một</th>\n",
              "      <td>0.030441</td>\n",
              "      <td>-0.050559</td>\n",
              "      <td>0.038910</td>\n",
              "      <td>-0.055022</td>\n",
              "      <td>-0.098898</td>\n",
              "      <td>-0.072563</td>\n",
              "      <td>-0.056924</td>\n",
              "      <td>-0.085691</td>\n",
              "      <td>0.045195</td>\n",
              "      <td>-0.011041</td>\n",
              "      <td>-0.029022</td>\n",
              "      <td>-0.031123</td>\n",
              "      <td>-0.015146</td>\n",
              "      <td>0.002481</td>\n",
              "      <td>-0.077833</td>\n",
              "      <td>-0.058809</td>\n",
              "      <td>0.037818</td>\n",
              "      <td>0.037354</td>\n",
              "      <td>-0.018249</td>\n",
              "      <td>-0.008307</td>\n",
              "      <td>0.025979</td>\n",
              "      <td>0.037069</td>\n",
              "      <td>0.067813</td>\n",
              "      <td>0.093914</td>\n",
              "      <td>-0.071382</td>\n",
              "      <td>-0.047962</td>\n",
              "      <td>0.019437</td>\n",
              "      <td>-0.019180</td>\n",
              "      <td>0.010277</td>\n",
              "      <td>-0.029073</td>\n",
              "      <td>-0.041010</td>\n",
              "      <td>0.026244</td>\n",
              "      <td>-0.015512</td>\n",
              "      <td>-0.015577</td>\n",
              "      <td>-0.026633</td>\n",
              "      <td>-0.069078</td>\n",
              "      <td>-0.036043</td>\n",
              "      <td>-0.002754</td>\n",
              "      <td>-0.087668</td>\n",
              "      <td>-0.039390</td>\n",
              "      <td>...</td>\n",
              "      <td>0.071252</td>\n",
              "      <td>0.015932</td>\n",
              "      <td>0.040472</td>\n",
              "      <td>-0.019300</td>\n",
              "      <td>0.040164</td>\n",
              "      <td>-0.083157</td>\n",
              "      <td>0.025478</td>\n",
              "      <td>0.043400</td>\n",
              "      <td>0.019925</td>\n",
              "      <td>-0.010717</td>\n",
              "      <td>0.069204</td>\n",
              "      <td>0.022896</td>\n",
              "      <td>-0.054678</td>\n",
              "      <td>0.048628</td>\n",
              "      <td>-0.018888</td>\n",
              "      <td>0.057378</td>\n",
              "      <td>0.058815</td>\n",
              "      <td>-0.052711</td>\n",
              "      <td>-0.099871</td>\n",
              "      <td>-0.045400</td>\n",
              "      <td>0.024025</td>\n",
              "      <td>-0.067533</td>\n",
              "      <td>-0.049321</td>\n",
              "      <td>-0.093735</td>\n",
              "      <td>0.032452</td>\n",
              "      <td>-0.029155</td>\n",
              "      <td>0.028171</td>\n",
              "      <td>-0.084994</td>\n",
              "      <td>0.018872</td>\n",
              "      <td>0.004752</td>\n",
              "      <td>0.011821</td>\n",
              "      <td>0.085760</td>\n",
              "      <td>-0.064696</td>\n",
              "      <td>0.021297</td>\n",
              "      <td>-0.080001</td>\n",
              "      <td>-0.007060</td>\n",
              "      <td>-0.032212</td>\n",
              "      <td>0.022337</td>\n",
              "      <td>0.075720</td>\n",
              "      <td>0.024284</td>\n",
              "    </tr>\n",
              "    <tr>\n",
              "      <th>chữ</th>\n",
              "      <td>0.080730</td>\n",
              "      <td>0.007994</td>\n",
              "      <td>0.032952</td>\n",
              "      <td>0.025223</td>\n",
              "      <td>-0.025180</td>\n",
              "      <td>0.038352</td>\n",
              "      <td>0.014387</td>\n",
              "      <td>0.048172</td>\n",
              "      <td>-0.084220</td>\n",
              "      <td>0.020160</td>\n",
              "      <td>0.009457</td>\n",
              "      <td>0.048622</td>\n",
              "      <td>0.018438</td>\n",
              "      <td>-0.046196</td>\n",
              "      <td>-0.009081</td>\n",
              "      <td>-0.082187</td>\n",
              "      <td>-0.072830</td>\n",
              "      <td>-0.067188</td>\n",
              "      <td>0.078864</td>\n",
              "      <td>-0.032441</td>\n",
              "      <td>0.039488</td>\n",
              "      <td>0.017785</td>\n",
              "      <td>0.095161</td>\n",
              "      <td>-0.052993</td>\n",
              "      <td>0.092794</td>\n",
              "      <td>-0.079851</td>\n",
              "      <td>-0.001721</td>\n",
              "      <td>0.065388</td>\n",
              "      <td>0.014285</td>\n",
              "      <td>0.038979</td>\n",
              "      <td>0.063497</td>\n",
              "      <td>0.078690</td>\n",
              "      <td>-0.006945</td>\n",
              "      <td>0.006516</td>\n",
              "      <td>-0.055228</td>\n",
              "      <td>0.068180</td>\n",
              "      <td>-0.016177</td>\n",
              "      <td>-0.046261</td>\n",
              "      <td>-0.043580</td>\n",
              "      <td>-0.038526</td>\n",
              "      <td>...</td>\n",
              "      <td>0.072969</td>\n",
              "      <td>-0.038346</td>\n",
              "      <td>-0.008955</td>\n",
              "      <td>-0.063560</td>\n",
              "      <td>-0.056107</td>\n",
              "      <td>-0.045130</td>\n",
              "      <td>-0.033207</td>\n",
              "      <td>0.062682</td>\n",
              "      <td>-0.085406</td>\n",
              "      <td>0.088364</td>\n",
              "      <td>0.046721</td>\n",
              "      <td>0.044608</td>\n",
              "      <td>0.062543</td>\n",
              "      <td>0.000458</td>\n",
              "      <td>0.039971</td>\n",
              "      <td>-0.021890</td>\n",
              "      <td>-0.094858</td>\n",
              "      <td>0.032064</td>\n",
              "      <td>-0.010576</td>\n",
              "      <td>-0.014330</td>\n",
              "      <td>-0.100503</td>\n",
              "      <td>0.059387</td>\n",
              "      <td>0.045339</td>\n",
              "      <td>-0.073188</td>\n",
              "      <td>-0.086991</td>\n",
              "      <td>0.082181</td>\n",
              "      <td>0.045117</td>\n",
              "      <td>0.012198</td>\n",
              "      <td>-0.089433</td>\n",
              "      <td>0.061574</td>\n",
              "      <td>-0.045585</td>\n",
              "      <td>0.048226</td>\n",
              "      <td>0.031074</td>\n",
              "      <td>-0.023812</td>\n",
              "      <td>0.006986</td>\n",
              "      <td>0.026475</td>\n",
              "      <td>-0.064078</td>\n",
              "      <td>-0.030370</td>\n",
              "      <td>0.018127</td>\n",
              "      <td>0.000489</td>\n",
              "    </tr>\n",
              "    <tr>\n",
              "      <th>lòng</th>\n",
              "      <td>-0.030587</td>\n",
              "      <td>0.031163</td>\n",
              "      <td>-0.028113</td>\n",
              "      <td>-0.010189</td>\n",
              "      <td>-0.071232</td>\n",
              "      <td>-0.074625</td>\n",
              "      <td>-0.062832</td>\n",
              "      <td>0.069700</td>\n",
              "      <td>0.066684</td>\n",
              "      <td>0.023029</td>\n",
              "      <td>0.051540</td>\n",
              "      <td>0.083328</td>\n",
              "      <td>-0.024999</td>\n",
              "      <td>0.004759</td>\n",
              "      <td>0.021449</td>\n",
              "      <td>0.005331</td>\n",
              "      <td>0.037940</td>\n",
              "      <td>-0.015523</td>\n",
              "      <td>-0.040194</td>\n",
              "      <td>0.046623</td>\n",
              "      <td>0.033482</td>\n",
              "      <td>0.004455</td>\n",
              "      <td>0.060771</td>\n",
              "      <td>-0.006937</td>\n",
              "      <td>0.000809</td>\n",
              "      <td>-0.000585</td>\n",
              "      <td>-0.029694</td>\n",
              "      <td>-0.006711</td>\n",
              "      <td>0.014048</td>\n",
              "      <td>-0.091399</td>\n",
              "      <td>0.000662</td>\n",
              "      <td>0.009510</td>\n",
              "      <td>0.029037</td>\n",
              "      <td>0.108462</td>\n",
              "      <td>0.090062</td>\n",
              "      <td>-0.035629</td>\n",
              "      <td>-0.056562</td>\n",
              "      <td>-0.046336</td>\n",
              "      <td>-0.091317</td>\n",
              "      <td>-0.073941</td>\n",
              "      <td>...</td>\n",
              "      <td>0.016552</td>\n",
              "      <td>-0.027864</td>\n",
              "      <td>-0.075989</td>\n",
              "      <td>0.013949</td>\n",
              "      <td>0.044220</td>\n",
              "      <td>-0.063157</td>\n",
              "      <td>-0.081937</td>\n",
              "      <td>0.039825</td>\n",
              "      <td>0.011472</td>\n",
              "      <td>0.103083</td>\n",
              "      <td>0.048873</td>\n",
              "      <td>-0.050240</td>\n",
              "      <td>-0.001817</td>\n",
              "      <td>-0.074513</td>\n",
              "      <td>-0.001636</td>\n",
              "      <td>-0.041891</td>\n",
              "      <td>-0.050425</td>\n",
              "      <td>-0.061419</td>\n",
              "      <td>-0.033863</td>\n",
              "      <td>-0.055179</td>\n",
              "      <td>0.031185</td>\n",
              "      <td>0.063117</td>\n",
              "      <td>0.028971</td>\n",
              "      <td>-0.039968</td>\n",
              "      <td>0.018519</td>\n",
              "      <td>0.086755</td>\n",
              "      <td>-0.064150</td>\n",
              "      <td>0.002739</td>\n",
              "      <td>0.053430</td>\n",
              "      <td>0.060405</td>\n",
              "      <td>-0.037729</td>\n",
              "      <td>-0.046394</td>\n",
              "      <td>-0.012751</td>\n",
              "      <td>0.070539</td>\n",
              "      <td>0.067763</td>\n",
              "      <td>0.002536</td>\n",
              "      <td>-0.055271</td>\n",
              "      <td>0.057797</td>\n",
              "      <td>-0.044606</td>\n",
              "      <td>0.072027</td>\n",
              "    </tr>\n",
              "  </tbody>\n",
              "</table>\n",
              "<p>5 rows × 128 columns</p>\n",
              "</div>"
            ],
            "text/plain": [
              "            0         1         2    ...       125       126       127\n",
              "<OOV>  0.031827 -0.015052  0.036400  ... -0.023888 -0.048051  0.010719\n",
              "là    -0.050856  0.091691  0.035700  ...  0.009537  0.022539 -0.014995\n",
              "một    0.030441 -0.050559  0.038910  ...  0.022337  0.075720  0.024284\n",
              "chữ    0.080730  0.007994  0.032952  ... -0.030370  0.018127  0.000489\n",
              "lòng  -0.030587  0.031163 -0.028113  ...  0.057797 -0.044606  0.072027\n",
              "\n",
              "[5 rows x 128 columns]"
            ]
          },
          "metadata": {
            "tags": []
          },
          "execution_count": 104
        }
      ]
    },
    {
      "cell_type": "code",
      "metadata": {
        "colab": {
          "base_uri": "https://localhost:8080/"
        },
        "id": "BpqA0L35waFS",
        "outputId": "9fd7c452-881b-4f70-c608-bb7c22d9a7d3"
      },
      "source": [
        "weights.shape"
      ],
      "execution_count": null,
      "outputs": [
        {
          "output_type": "execute_result",
          "data": {
            "text/plain": [
              "(117, 128)"
            ]
          },
          "metadata": {
            "tags": []
          },
          "execution_count": 94
        }
      ]
    },
    {
      "cell_type": "code",
      "metadata": {
        "id": "bntiu34MxVmY"
      },
      "source": [
        ""
      ],
      "execution_count": null,
      "outputs": []
    }
  ]
}