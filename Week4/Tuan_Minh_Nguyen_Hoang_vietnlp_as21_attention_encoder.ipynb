{
  "nbformat": 4,
  "nbformat_minor": 0,
  "metadata": {
    "colab": {
      "name": "Tuan Minh Nguyen Hoang - vietnlp_as21_attention_encoder.ipynb",
      "provenance": [],
      "collapsed_sections": [],
      "toc_visible": true
    },
    "kernelspec": {
      "display_name": "Python 3",
      "language": "python",
      "name": "python3"
    },
    "language_info": {
      "codemirror_mode": {
        "name": "ipython",
        "version": 3
      },
      "file_extension": ".py",
      "mimetype": "text/x-python",
      "name": "python",
      "nbconvert_exporter": "python",
      "pygments_lexer": "ipython3",
      "version": "3.7.7"
    }
  },
  "cells": [
    {
      "cell_type": "markdown",
      "metadata": {
        "id": "LQjsR7vaFyAb"
      },
      "source": [
        "__author__ imthanhlv@gmail.com"
      ]
    },
    {
      "cell_type": "markdown",
      "metadata": {
        "id": "cqqZGZwhFyAe"
      },
      "source": [
        "# Assignment 2 - Attention and Transformers Encoder\n",
        "\n",
        "*VietAI Advanced NLP*"
      ]
    },
    {
      "cell_type": "markdown",
      "metadata": {
        "id": "PeDTfnHdFyAf"
      },
      "source": [
        "Trong bài tập này chúng ta sẽ xây dựng Multihead self-attention bằng pytorch, hoàn toàn song song với nhiều queries, nhiều head và nhiều sequences trong một batch (bằng cách sử dụng broadcasting). Sau đó sẽ sử dụng thành phần này vào việc xây dựng kiến trúc Transformers.\n",
        "\n",
        "Một số lưu ý khi bắt đầu:\n",
        "- Các ký tự thường: `q`, `k`, `v` ký hiệu 1 vector / tensor 1 chiều.\n",
        "- Các ký tự in hoa: `Q`, `K`, `V` ký hiệu tensor có từ 2 chiều trở lên, sẽ có trong comment từng hàm.\n",
        "- Bạn cần hoàn thành các phần trong dấu:\n",
        "```python\n",
        "########### YOUR CODE HERE #################\n",
        "###########################################\n",
        "```\n",
        "\n",
        "Chúng ta sẽ bắt đầu bằng cài đặt thư viện & một số hàm phụ trợ:"
      ]
    },
    {
      "cell_type": "code",
      "metadata": {
        "id": "7WnXQIAkFyAh",
        "colab": {
          "base_uri": "https://localhost:8080/"
        },
        "outputId": "07b4aa27-7b24-411f-9497-4e7f4a0e085d"
      },
      "source": [
        "!pip install einops\n",
        "!wget -c https://gist.githubusercontent.com/Luvata/55f7b3e9ae451122b9e3faf0a7387b4f/raw/440fac5c6e7153fd39e4eb9ebec6e51c9520ef1f/visualize.py\n",
        "!pip install --upgrade graphviz"
      ],
      "execution_count": 104,
      "outputs": [
        {
          "output_type": "stream",
          "text": [
            "Requirement already satisfied: einops in /usr/local/lib/python3.7/dist-packages (0.3.0)\n",
            "--2021-03-01 05:51:38--  https://gist.githubusercontent.com/Luvata/55f7b3e9ae451122b9e3faf0a7387b4f/raw/440fac5c6e7153fd39e4eb9ebec6e51c9520ef1f/visualize.py\n",
            "Resolving gist.githubusercontent.com (gist.githubusercontent.com)... 185.199.111.133, 185.199.108.133, 185.199.110.133, ...\n",
            "Connecting to gist.githubusercontent.com (gist.githubusercontent.com)|185.199.111.133|:443... connected.\n",
            "HTTP request sent, awaiting response... 416 Range Not Satisfiable\n",
            "\n",
            "    The file is already fully retrieved; nothing to do.\n",
            "\n",
            "Requirement already up-to-date: graphviz in /usr/local/lib/python3.7/dist-packages (0.16)\n"
          ],
          "name": "stdout"
        }
      ]
    },
    {
      "cell_type": "code",
      "metadata": {
        "id": "o6bJQC64FyAh"
      },
      "source": [
        "import torch\n",
        "import torch.nn as nn\n",
        "import torch.nn.functional as F\n",
        "from einops import rearrange\n",
        "import numpy as np\n",
        "import time\n",
        "import matplotlib.pyplot as plt\n",
        "%matplotlib inline\n",
        "from visualize import display_module"
      ],
      "execution_count": 105,
      "outputs": []
    },
    {
      "cell_type": "code",
      "metadata": {
        "id": "Les8Ji48FyAi"
      },
      "source": [
        "def benchmark(input_generator, slow_function, fast_function, n_tries=100):\n",
        "    \"\"\"\n",
        "    This function will verify that the result of `slow_function` and\n",
        "    `fast_function` are equals for all `n_tries` inputs from `input_generator`\n",
        "    It also prints out the average run time of each function\n",
        "    \"\"\"\n",
        "    def _one_try(input, function):\n",
        "        start_time = time.time()\n",
        "        output = function(*input)\n",
        "        return time.time() - start_time, output\n",
        "    \n",
        "    def _stat_str(list_times):\n",
        "        return f\"AVG: {np.mean(list_times)}+-{np.std(list_times)}\"\n",
        "    \n",
        "    slow_times = []\n",
        "    fast_times = []\n",
        "    \n",
        "    for i in range(n_tries):\n",
        "        input = next(input_generator)\n",
        "        slow_time, slow_result = _one_try(input, slow_function)\n",
        "        fast_time, fast_result = _one_try(input, fast_function)\n",
        "        assert torch.allclose(slow_result, fast_result)\n",
        "        slow_times.append(slow_time)\n",
        "        fast_times.append(fast_time)\n",
        "        \n",
        "    print(\"Your outputs is correct\")\n",
        "    print(\"Timing of slow function: \", _stat_str(slow_times))  \n",
        "    print(\"Timing of fast function: \", _stat_str(fast_times))\n",
        "    print(f\"Speedup: {np.mean(slow_times) / np.mean(fast_times)} times\")"
      ],
      "execution_count": 106,
      "outputs": []
    },
    {
      "cell_type": "markdown",
      "metadata": {
        "id": "n7YaRGvbFyAj"
      },
      "source": [
        "$d_k$, $d_v$, $n_{head}$, .. là các hyperparameters trong transformers. N_queries, M_keys là các config để test attention. `batch_size` là config để kiểm thử broadcasting với input là nhiều mẫu trong 1 lần forward."
      ]
    },
    {
      "cell_type": "code",
      "metadata": {
        "id": "VWAqVYfNFyAk"
      },
      "source": [
        "d_k = 64\n",
        "d_v = 64\n",
        "N_queries = 32\n",
        "M_keys = 32\n",
        "n_head = 8\n",
        "batch_size = 32"
      ],
      "execution_count": 107,
      "outputs": []
    },
    {
      "cell_type": "markdown",
      "metadata": {
        "id": "IseMaNZQFyAl"
      },
      "source": [
        "## Phần 1: Xây dựng Multi-Head Attention"
      ]
    },
    {
      "cell_type": "markdown",
      "metadata": {
        "id": "0ma09EczFyAm"
      },
      "source": [
        "Chúng ta đã biết công thức scale dot-product attention được tính như sau:\n",
        "$$Attention(q, K, V) = Softmax(\\frac{K^Tq}{\\sqrt{d_k}}) = \\sum_{i}{}\\frac{e^{score(q,k_i)}}{ \\sum_j e^{score(q, k_j)} }v_i$$\n",
        "\n",
        "Với $$score(q, k) = \\frac{q \\cdot k}{\\sqrt{d_k}}$$\n",
        "\n",
        "\n",
        "Có thể thấy nếu $score(q, k_i) = -\\infty \\rightarrow e^{score(q, k_i)} = e^{-\\infty} = 0 $ thì trọng số của $v_i$ sẽ bằng 0 nên $v_i$ sẽ không đóng góp thông tin cho kết quả attention, hay $v_i$ đã bị `mask` khi tính attention.\n",
        "\n",
        "```\n",
        "sequence              <BOS>     I    go    to    school  <EOS> <PAD> <PAD>\n",
        "                        |       |     |    |       |       |     |     |\n",
        "                        v       v     v    v       v       v     v     v\n",
        "PAD mask                0       0     0    0       0       0     1     1 \n",
        "```\n",
        "\n",
        "Trong kiến trúc LSTM seq2seq + Attention (Bahdanau et al., Luong et al.,), attention của hidden state tại 1 bước decode tính trên embedding của $M$ tokens encoder, sẽ được sử dụng `mask` với các token `PAD` trong câu đầu vào, vì token `PAD` không mang thông tin của câu mà chỉ để chuẩn hóa độ dài các chuỗi bằng nhau.\n",
        "\n",
        "Trong attention, việc sử dụng `mask` là cần thiết khi cần bỏ đi sự đóng góp của (k,v) không mang thông tin (vd `PAD` token) hoặc không có liên kết đến query hiện tại (vd `causal-mask` trong transformer decoder, sẽ được đề cập sau). \n",
        "\n",
        "\n",
        "\n",
        "Trong pytorch, `mask` trên 1 tensor được thực hiện qua hàm `masked_fill` như sau:"
      ]
    },
    {
      "cell_type": "code",
      "metadata": {
        "id": "0Crhu7NcFyAn",
        "colab": {
          "base_uri": "https://localhost:8080/"
        },
        "outputId": "fcdd2106-70b1-4075-97cc-bd609885ef10"
      },
      "source": [
        "print(\"Original:\")\n",
        "similar_score = torch.tensor([[0.5, 2.3, 1.4, -1.3, 3.1]])\n",
        "print(\"similar score  :\", similar_score)\n",
        "print(\"softmax:\", F.softmax(similar_score, dim=-1))\n",
        "\n",
        "n_step = similar_score.shape[1]\n",
        "mask = torch.ones_like(similar_score).bool() # [[True, True, True, True, True]]\n",
        "\n",
        "for step_idx in range(n_step):\n",
        "    mask[0, step_idx] = False\n",
        "    masked_score = similar_score.masked_fill(mask, value=-1e9)\n",
        "    print(f\"step #{step_idx}:\", \"mask:\", mask, \"softmax out: \", F.softmax(masked_score, dim=-1))"
      ],
      "execution_count": 108,
      "outputs": [
        {
          "output_type": "stream",
          "text": [
            "Original:\n",
            "similar score  : tensor([[ 0.5000,  2.3000,  1.4000, -1.3000,  3.1000]])\n",
            "softmax: tensor([[0.0432, 0.2615, 0.1063, 0.0071, 0.5819]])\n",
            "step #0: mask: tensor([[False,  True,  True,  True,  True]]) softmax out:  tensor([[1., 0., 0., 0., 0.]])\n",
            "step #1: mask: tensor([[False, False,  True,  True,  True]]) softmax out:  tensor([[0.1419, 0.8581, 0.0000, 0.0000, 0.0000]])\n",
            "step #2: mask: tensor([[False, False, False,  True,  True]]) softmax out:  tensor([[0.1052, 0.6362, 0.2587, 0.0000, 0.0000]])\n",
            "step #3: mask: tensor([[False, False, False, False,  True]]) softmax out:  tensor([[0.1034, 0.6253, 0.2542, 0.0171, 0.0000]])\n",
            "step #4: mask: tensor([[False, False, False, False, False]]) softmax out:  tensor([[0.0432, 0.2615, 0.1063, 0.0071, 0.5819]])\n"
          ],
          "name": "stdout"
        }
      ]
    },
    {
      "cell_type": "markdown",
      "metadata": {
        "id": "Ax0eXF9_FyAo"
      },
      "source": [
        "Tại step #4, output của softmax bằng với kết quả softmax khi không mask. Các step còn lại, khi keys tại vị trí $i$ bị mask (`mask[0][i] == True`), thì kết quả softmax tương đương với vị trí đó bằng `0`. Một hàm scale-dot attention sử dụng mask trong pytorch có thể thực hiện như sau:\n",
        "\n",
        "![scale-dot-product attention](https://raw.githubusercontent.com/Luvata/gifs/main/figures/scale_dot_product.png)"
      ]
    },
    {
      "cell_type": "code",
      "metadata": {
        "id": "uzYWgvHJFyAp"
      },
      "source": [
        "def scale_dot_product_attention(q, K, V, mask):\n",
        "    \"\"\"Scale-dot attentionn on a single query\n",
        "    Arguments:\n",
        "        q: torch.Tensor shape (1, d_k)\n",
        "        K: torch.Tensor shape (M, d_k)\n",
        "        V: torch.Tensor shape (M, d_v)\n",
        "        mask: torch.BoolTensor shape (1, M)\n",
        "        \n",
        "        if mask[0, i] == True, (k, q) at index `i` will be masked\n",
        "        when calculating attention\n",
        "    Return:\n",
        "        scaled-dot attention: torch.Tensor shape (1, d_v)\n",
        "    \"\"\"\n",
        "    _, d_k = q.shape\n",
        "    scale = d_k ** -0.5\n",
        "    similar_score = q @ K.T * scale # (1, d_k) @ (d_k, M) -> (1, M)\n",
        "    similar_score = similar_score.masked_fill(mask, value=float(\"-inf\"))\n",
        "    attention_weight = F.softmax(similar_score, dim=-1) # (1, M)\n",
        "    attention = attention_weight @ V # (1, M) @ (M, d_v) -> (1, d_v)\n",
        "    return attention"
      ],
      "execution_count": 109,
      "outputs": []
    },
    {
      "cell_type": "markdown",
      "metadata": {
        "id": "Cf3Kq36mUhFT"
      },
      "source": [
        "- `@` là phép `dot` trong pytorch\n",
        "- Dòng 18: `dim=-1` là tính softmax trên axis cuối (`M`)"
      ]
    },
    {
      "cell_type": "code",
      "metadata": {
        "id": "peYbACE9FyAq",
        "colab": {
          "base_uri": "https://localhost:8080/"
        },
        "outputId": "b9ffa03a-667d-4f9e-ea97-4eec999049b7"
      },
      "source": [
        "q = torch.rand(1, d_k)\n",
        "K = torch.rand(M_keys, d_k)\n",
        "V = torch.rand(M_keys, d_v)\n",
        "mask = torch.randint(low=0, high=2, size=(1, M_keys)).bool()\n",
        "\n",
        "print(mask)\n",
        "print(scale_dot_product_attention(q, K, V, mask).shape)"
      ],
      "execution_count": 110,
      "outputs": [
        {
          "output_type": "stream",
          "text": [
            "tensor([[False, False, False,  True,  True,  True,  True,  True,  True, False,\n",
            "         False, False, False,  True,  True,  True,  True, False,  True, False,\n",
            "          True,  True, False,  True, False,  True, False,  True, False, False,\n",
            "         False, False]])\n",
            "torch.Size([1, 64])\n"
          ],
          "name": "stdout"
        }
      ]
    },
    {
      "cell_type": "markdown",
      "metadata": {
        "id": "ZXPPSuoyFyAr"
      },
      "source": [
        "### 1.1 Broadcasting với nhiều queries\n",
        "\n",
        "*Khởi động*\n",
        "\n",
        "Hàm `scale_dot_product_attention` trên chỉ hoạt động với 1 query. Trong phần này bạn cần hoàn thành hàm `queries_attention` song song (bằng cách sử dụng broadcasting) với `N` queries. Kết quả đầu ra cần giống với `slow_queries_attention`. Lưu ý trong phần này $mask \\in \\mathbb{R}^{N \\times  M}$  với `mask[i]` là vector mask của `Q[i]` đến `M` keys"
      ]
    },
    {
      "cell_type": "code",
      "metadata": {
        "id": "3PexeABsFyAr"
      },
      "source": [
        "def slow_queries_attention(Q, K, V, mask):\n",
        "    \"\"\"Attentionn on many queries\n",
        "    Arguments:\n",
        "        Q: torch.Tensor shape (N, d_k)\n",
        "        K: torch.Tensor shape (M, d_k)\n",
        "        V: torch.Tensor shape (M, d_v)\n",
        "        mask: torch.BoolTensor shape (N, M)\n",
        "        mask[i, j] = True means K[j] was masked for Q[i]\n",
        "\n",
        "    Return:\n",
        "        scaled-dot attention: torch.Tensor shape (N, d_v)\n",
        "    \"\"\"\n",
        "    attentions = []\n",
        "    for query, single_mask in zip(Q, mask):\n",
        "        query_vector = query.unsqueeze(0)  # (d_k) -> (1, d_k)\n",
        "        mask_vector = single_mask.unsqueeze(0) # (M) -> (1, M)\n",
        "        attentions.append(scale_dot_product_attention(query_vector, K, V, mask_vector))\n",
        "    attentions = torch.stack(attentions)  # (N, 1, d_v)\n",
        "    attentions = attentions.squeeze(1)  # (N, d_v)\n",
        "    return attentions"
      ],
      "execution_count": 111,
      "outputs": []
    },
    {
      "cell_type": "code",
      "metadata": {
        "id": "WrBQdOqlFyAs"
      },
      "source": [
        "def queries_attention(Q, K, V, mask):\n",
        "    \"\"\"Attentionn on many queries\n",
        "    Arguments:\n",
        "        Q: torch.Tensor shape (N, d_k)\n",
        "        K: torch.Tensor shape (M, d_k)\n",
        "        V: torch.Tensor shape (M, d_v)\n",
        "        mask: torch.BoolTensor shape (N, M)\n",
        "        mask[i, j] = True means K[j] was masked for Q[i]\n",
        "\n",
        "    Return:\n",
        "        scaled-dot attention: torch.Tensor shape (N, d_v)\n",
        "    \"\"\"\n",
        "    N, d_k = Q.shape\n",
        "    ########### YOUR CODE HERE #################\n",
        "    scale = d_k ** -0.5\n",
        "    similar_score = Q @ K.T * scale # (N, d_k) @ (d_k, M) -> (N, M)\n",
        "    similar_score = similar_score.masked_fill(mask, value=float(\"-inf\"))\n",
        "    attention_weight = F.softmax(similar_score, dim=-1) # (N, M)\n",
        "    attentions = attention_weight @ V # (N, M) @ (M, d_v) -> (N, d_v)\n",
        "    ###########################################\n",
        "    return attentions"
      ],
      "execution_count": 112,
      "outputs": []
    },
    {
      "cell_type": "code",
      "metadata": {
        "id": "gyBs_KDlFyAu",
        "colab": {
          "base_uri": "https://localhost:8080/"
        },
        "outputId": "56761f87-260b-4439-b202-46a6c3ebaebd"
      },
      "source": [
        "## Test\n",
        "Q = torch.rand(N_queries, d_k)\n",
        "K = torch.rand(M_keys, d_k)\n",
        "V = torch.rand(M_keys, d_v)\n",
        "mask = torch.randint(low=0, high=2, size=(N_queries, M_keys)).bool()\n",
        "\n",
        "slow_attn =  slow_queries_attention(Q, K, V, mask)\n",
        "parl_attn =  queries_attention(Q, K, V, mask)\n",
        "\n",
        "assert parl_attn.shape == slow_attn.shape\n",
        "assert torch.allclose(parl_attn, slow_attn)\n",
        "\n",
        "def a1_generator():\n",
        "    while True:\n",
        "        Q = torch.rand(N_queries, d_k)\n",
        "        K = torch.rand(M_keys, d_k)\n",
        "        V = torch.rand(M_keys, d_v)\n",
        "        mask = torch.randint(low=0, high=2, size=(N_queries, M_keys))\n",
        "        yield (Q, K, V, mask)\n",
        "        \n",
        "generator = a1_generator()\n",
        "benchmark(generator, slow_queries_attention, queries_attention)"
      ],
      "execution_count": 113,
      "outputs": [
        {
          "output_type": "stream",
          "text": [
            "Your outputs is correct\n",
            "Timing of slow function:  AVG: 0.0018857431411743164+-0.00023743197818923222\n",
            "Timing of fast function:  AVG: 7.808685302734375e-05+-1.389018866415422e-05\n",
            "Speedup: 24.149303859306304 times\n"
          ],
          "name": "stdout"
        }
      ]
    },
    {
      "cell_type": "markdown",
      "metadata": {
        "id": "T8UovM77FyAv"
      },
      "source": [
        "### 1.2 Broadcasting với nhiều heads (Multi-head attention)\n",
        "![heads](https://raw.githubusercontent.com/Luvata/gifs/main/figures/transformer_heads.png)\n",
        "\n",
        "Giống với bài tập trước, multi-head attention vẫn sẽ tính scale-dot attention của `N` queries và `M` keys nhưng song song trên nhiều `head`.\n",
        "\n",
        "Bạn cần hoàn thành hàm `heads_attention` sử dụng broadcasting, kết quả trả về cần giống với `slow_heads_attention`.\n",
        "\n",
        "Gợi ý:\n",
        "  - Để \"đổi trục\" một tensor, bạn có thể dùng `transpose`.\n",
        "  - `mask` sẽ được thực hiện giống nhau với tất cả các head"
      ]
    },
    {
      "cell_type": "code",
      "metadata": {
        "id": "Zzkm5IhmFyAx"
      },
      "source": [
        "def slow_heads_attention(Q, K, V, mask):\n",
        "    \"\"\"Slow Attentionn on many queries and many heads\n",
        "    Arguments:\n",
        "        Q: torch.Tensor shape (N, n_head, d_k)\n",
        "        K: torch.Tensor shape (M, n_head, d_k)\n",
        "        V: torch.Tensor shape (M, n_head, d_k)\n",
        "        mask: torch.BoolTensor shape (N, M)\n",
        "        where mask[i, j] = 1 means K[j] was masked for Q[i]\n",
        "\n",
        "    Return:\n",
        "        scaled-dot attention: torch.Tensor shape (N, n_head, d_k)\n",
        "    \"\"\"\n",
        "    N, n_head, d_k = Q.shape\n",
        "    attentions = []\n",
        "\n",
        "    for i in range(n_head):\n",
        "        queries = Q[:, i, :]  # (N, d_k)\n",
        "        keys = K[:, i, :]  # (M, d_k)\n",
        "        values = V[:, i, :]  # (M, d_v)\n",
        "        attentions.append(slow_queries_attention(queries, keys, values, mask)) # Apply the same mask for all heads\n",
        "\n",
        "    attentions = torch.stack(attentions)  # (n_head, N, d_v)\n",
        "    attentions = torch.transpose(attentions, 0, 1)  # (N, n_head, d_v)\n",
        "\n",
        "    return attentions"
      ],
      "execution_count": 114,
      "outputs": []
    },
    {
      "cell_type": "code",
      "metadata": {
        "id": "Dv6vlVraFyAy"
      },
      "source": [
        "def heads_attention(Q, K, V, mask):\n",
        "    \"\"\"Attentionn on many queries and many heads\n",
        "    Arguments:\n",
        "        Q: torch.Tensor shape (N, n_head, d_k)\n",
        "        K: torch.Tensor shape (M, n_head, d_k)\n",
        "        V: torch.Tensor shape (M, n_head, d_v)\n",
        "        mask: torch.Tensor shape (N, M)\n",
        "        where mask[i, j] = True means K[j] was masked for Q[i]\n",
        "        \n",
        "    Return:\n",
        "        scaled-dot attention: torch.Tensor shape (N, n_head, d_v)\n",
        "    \"\"\"\n",
        "    N, n_head, d_k = Q.shape\n",
        "    ########### YOUR CODE HERE #################\n",
        "    scale = d_k ** -0.5\n",
        "    similar_score = torch.transpose(Q, 0, 1) @ K.permute(1, 2, 0) * scale # (n_head, N, d_k) @ (n_head, d_k, M) -> (n_head, N, M)\n",
        "    similar_score = similar_score.masked_fill(mask, value=float(\"-inf\"))\n",
        "    attention_weight = F.softmax(similar_score, dim=-1) # (n_head, N, M)\n",
        "    attentions = attention_weight @ torch.transpose(V, 0, 1) # (n_head, N, M) @ (M, n_head, d_v) -> (n_head, N, d_v)\n",
        "    attentions = torch.transpose(attentions, 0, 1)\n",
        "    ###########################################\n",
        "    return attentions"
      ],
      "execution_count": 115,
      "outputs": []
    },
    {
      "cell_type": "code",
      "metadata": {
        "id": "B7ZbOqiOFyA0",
        "colab": {
          "base_uri": "https://localhost:8080/"
        },
        "outputId": "c007a4e7-8be2-45e5-f773-b4df1dc20b63"
      },
      "source": [
        "Q = torch.rand(N_queries, n_head, d_k)\n",
        "K = torch.rand(M_keys, n_head, d_k)\n",
        "V = torch.rand(M_keys, n_head, d_v)\n",
        "mask = torch.randint(low=0, high=2, size=(N_queries, M_keys)).bool()\n",
        "\n",
        "slow_attn = slow_heads_attention(Q, K, V, mask)\n",
        "parl_attn = heads_attention(Q, K, V, mask)\n",
        "\n",
        "assert parl_attn.shape == slow_attn.shape\n",
        "assert torch.allclose(parl_attn, slow_attn)\n",
        "\n",
        "def a2_generator():\n",
        "    while True:\n",
        "        Q = torch.rand(N_queries, n_head, d_k)\n",
        "        K = torch.rand(M_keys, n_head, d_k)\n",
        "        V = torch.rand(M_keys, n_head, d_v)\n",
        "        mask = torch.randint(low=0, high=2, size=(N_queries, M_keys))\n",
        "        \n",
        "        yield (Q, K, V, mask)\n",
        "        \n",
        "generator = a2_generator()\n",
        "benchmark(generator, slow_heads_attention, heads_attention)"
      ],
      "execution_count": 116,
      "outputs": [
        {
          "output_type": "stream",
          "text": [
            "Your outputs is correct\n",
            "Timing of slow function:  AVG: 0.017669124603271483+-0.003533337104702521\n",
            "Timing of fast function:  AVG: 0.0003353619575500488+-5.285944647559393e-05\n",
            "Speedup: 52.686729086242806 times\n"
          ],
          "name": "stdout"
        }
      ]
    },
    {
      "cell_type": "markdown",
      "metadata": {
        "id": "iUe9gvz0FyA1"
      },
      "source": [
        "### 1.3 Batch broadcasting\n",
        "\n",
        "Bài tập trước bạn đã hoàn thành multi-head attention với 1 sequence! Để tận dụng tối đa khả năng tính toán song song, trong bài tập này bạn sẽ xây dựng multi-head attention sử dụng broadcasting với nhiều cặp (Q, K, V) đầu vào trong 1 batch. \n",
        "\n",
        "Bạn cần hoàn thành hàm `multi_head_attention` sử dụng broadcasting, kết quả đầu ra cần giống với kết quả trả về từ `slow_multi_head_attention`"
      ]
    },
    {
      "cell_type": "code",
      "metadata": {
        "id": "uSFqHS8NFyA2"
      },
      "source": [
        "def slow_multi_head_attention(Q, K, V, mask):\n",
        "    \"\"\"Multi-head attention on a batch of Q, K, V\n",
        "    Arguments:\n",
        "        Q: torch.Tensor shape (B, N, n_head, d_k)\n",
        "        K: torch.Tensor shape (B, M, n_head, d_k)\n",
        "        V: torch.Tensor shape (B, M, n_head, d_v)\n",
        "        mask: torch.BoolTensor shape (B, N, M)\n",
        "        where mask[i] is `mask` for attention of record i: (Q[i], K[i], V[i])\n",
        "\n",
        "    Return:\n",
        "        scaled-dot attention: torch.Tensor shape (B, N, n_head, d_v)\n",
        "    \"\"\"\n",
        "    B, N, n_head, d_k = Q.shape\n",
        "\n",
        "    attentions = []\n",
        "    for single_Q, single_K, single_V, single_mask in zip(Q, K, V, mask):\n",
        "        # single_Q, single_K: (N, n_head, d_k)\n",
        "        # single_V: (N, n_head, d_v)\n",
        "        # single_mask: (N, M)\n",
        "        attention = slow_heads_attention(single_Q, single_K, single_V, single_mask)\n",
        "        attentions.append(attention)\n",
        "\n",
        "    attentions = torch.stack(attentions)  # (B, N, n_head, d_v)\n",
        "    return attentions"
      ],
      "execution_count": 117,
      "outputs": []
    },
    {
      "cell_type": "code",
      "metadata": {
        "id": "1s-82PPmFyA3"
      },
      "source": [
        "def multi_head_attention(Q, K, V, mask):\n",
        "    \"\"\"Multi-head attention on a batch of Q, K, V\n",
        "    Arguments:\n",
        "        Q: torch.Tensor shape (B, N, n_head, d_k)\n",
        "        K: torch.Tensor shape (B, M, n_head, d_k)\n",
        "        V: torch.Tensor shape (B, M, n_head, d_v)\n",
        "        mask: torch.BoolTensor shape (B, N, M)\n",
        "        where mask[i] is `mask` for attention of record i: (Q[i], K[i], V[i])\n",
        "\n",
        "    Return:\n",
        "        scaled-dot attention: torch.Tensor shape (B, N, n_head d_v)\n",
        "    \"\"\"\n",
        "    B, N, n_head, d_k = Q.shape\n",
        "    ########### YOUR CODE HERE #################\n",
        "    scale = d_k ** -0.5\n",
        "    similar_score = torch.transpose(Q, -3, -2) @ K.permute(0, 2, 3, 1) * scale # (B, n_head, N, d_k) @ (B, n_head, d_k, M) -> (B, n_head, N, M)\n",
        "    batch_mask = mask.unsqueeze(1)\n",
        "    similar_score = similar_score.masked_fill(batch_mask, value=float(\"-inf\"))\n",
        "    attention_weight = F.softmax(similar_score, dim=-1) # (B, n_head, N, M)\n",
        "    attentions = attention_weight @ torch.transpose(V, -3, -2) # (B, n_head, N, M) @ (B, n_head, M, d_v) -> (B, n_head, N, d_v)\n",
        "    attentions = torch.transpose(attentions, -3, -2)\n",
        "    ###########################################\n",
        "    return attentions"
      ],
      "execution_count": 118,
      "outputs": []
    },
    {
      "cell_type": "code",
      "metadata": {
        "id": "GxJpoD4bFyA4",
        "colab": {
          "base_uri": "https://localhost:8080/"
        },
        "outputId": "745ca56e-fe06-4aaf-fe50-7caafb8bb3f9"
      },
      "source": [
        "Q = torch.rand(batch_size, N_queries, n_head, d_k)\n",
        "K = torch.rand(batch_size, M_keys, n_head, d_k)\n",
        "V = torch.rand(batch_size, M_keys, n_head, d_v)\n",
        "mask = torch.randint(low=0, high=2, size=(batch_size, N_queries, M_keys)).bool()\n",
        "\n",
        "slow_attn = slow_multi_head_attention(Q, K, V, mask)\n",
        "parl_attn = multi_head_attention(Q, K, V, mask)\n",
        "\n",
        "assert parl_attn.shape == slow_attn.shape\n",
        "assert torch.allclose(slow_attn, parl_attn)\n",
        "\n",
        "def a3_generator():\n",
        "    while True:\n",
        "        Q = torch.rand(batch_size, N_queries, n_head, d_k)\n",
        "        K = torch.rand(batch_size, M_keys, n_head, d_k)\n",
        "        V = torch.rand(batch_size, M_keys, n_head, d_v)\n",
        "        mask = torch.randint(low=0, high=2, size=(batch_size, N_queries, M_keys))\n",
        "        yield (Q, K, V, mask)\n",
        "\n",
        "generator = a3_generator() # it's gonna take a while ...\n",
        "benchmark(generator, slow_multi_head_attention, multi_head_attention)"
      ],
      "execution_count": 119,
      "outputs": [
        {
          "output_type": "stream",
          "text": [
            "Your outputs is correct\n",
            "Timing of slow function:  AVG: 0.5000735592842102+-0.04504612940920706\n",
            "Timing of fast function:  AVG: 0.006948904991149902+-0.0001262499042613343\n",
            "Speedup: 71.9643684754795 times\n"
          ],
          "name": "stdout"
        }
      ]
    },
    {
      "cell_type": "markdown",
      "metadata": {
        "id": "OnIgeXkqFyA4"
      },
      "source": [
        "### 1.4 `torch.einsum` và `einops.rearrange`\n",
        "\n",
        "Các phép tính (`transpose`, `matmul`, `stack`, `view` ...) trên tensor thường không tường minh khi viết (bạn hãy hình dung việc thực hiện các bài tập trên mà không có comment). Trong bài tập này, bạn sẽ làm quen với einops's `rearrange` và pytorch's `einsum` đều sử dụng [Einstein summation](https://en.wikipedia.org/wiki/Einstein_notation): các phép tính trên tensor sẽ được biểu diễn bằng một string (tên các axis) của tensor(s) đầu vào và đầu ra. Bài tập này bên cạnh việc giới thiệu `torch.einsum` còn giới thiệu hàm phổ biến nhất trong `einops` là `einops.rearrange`.\n",
        "\n",
        "Đọc thêm:\n",
        "- Highly recommend: [Mat Kelcey : An illustrative einsum example](https://www.youtube.com/watch?v=SOaYrnQtd9g)\n",
        "- [Writing a better code with pytorch and einops](http://einops.rocks/pytorch-examples.html)\n",
        "\n",
        "`einops.rearrange` và `torch.einsum` có một số điểm khác nhau: `einops` hỗ trợ tên các trục (axis) là các **string** từ nhiều ký tự liền nhau (có thể là `d_k`, `n_head`) , còn trong `torch.einsum` là **1 lower case letters** (`h` tương đương với `n_head`) ứng với 1 trục của tensor.\n",
        "\n",
        "`heads_attention` trong phần 1.2 có thể thực hiện với `einsum` & `rearrange`**văn bản in đậm** như sau:"
      ]
    },
    {
      "cell_type": "code",
      "metadata": {
        "id": "20aIg7OKFyA5",
        "colab": {
          "base_uri": "https://localhost:8080/"
        },
        "outputId": "e5362289-b64c-4627-fcc9-eed7d27c9369"
      },
      "source": [
        "def heads_attention_with_einops1(Q, K, V, mask):\n",
        "    \"\"\"Attentionn on a many queries and many heads\n",
        "    More explicit, since we also introduce rearrange\n",
        "    \n",
        "    Arguments:\n",
        "        Q: torch.Tensor shape (N, n_head, d_k)\n",
        "        K: torch.Tensor shape (M, n_head, d_k)\n",
        "        V: torch.Tensor shape (M, n_head, d_v)\n",
        "        mask: torch.Tensor shape (N, M)\n",
        "        where mask[i, j] = True means K[j] was masked for Q[i]\n",
        "        \n",
        "    Return:\n",
        "        scaled-dot attention: torch.Tensor shape (N, n_head, d_v)\n",
        "    \"\"\"\n",
        "    N, n_head, d_k = Q.shape\n",
        "    \n",
        "    # Similar with reshape/view, but more expressive\n",
        "    Q = rearrange(Q, \"N n_head d_k -> n_head N d_k\")\n",
        "    K = rearrange(K, \"M n_head d_k -> n_head M d_k\")\n",
        "    V = rearrange(V, \"M n_head d_k -> n_head M d_k\")\n",
        "    \n",
        "    similar_score = torch.einsum('hnd,hmd->hnm', Q, K) / (d_k ** 0.5) # Keep dimension h, reduce on `d`\n",
        "    similar_score = similar_score.masked_fill(mask, value=float(\"-inf\"))\n",
        "    \n",
        "    attention_weight = F.softmax(similar_score, dim=-1)\n",
        "    attentions = torch.einsum('hnm,hmd->hnd', attention_weight, V)\n",
        "\n",
        "    # We do `transpose` without comment the shape\n",
        "    attentions = rearrange(attentions, 'n_head N d_v -> N n_head d_v')\n",
        "    return attentions\n",
        "\n",
        "generator = a2_generator()\n",
        "benchmark(generator, slow_heads_attention, heads_attention_with_einops1)"
      ],
      "execution_count": 120,
      "outputs": [
        {
          "output_type": "stream",
          "text": [
            "Your outputs is correct\n",
            "Timing of slow function:  AVG: 0.015414988994598389+-0.00167558415917288\n",
            "Timing of fast function:  AVG: 0.0004898405075073242+-0.00011543167627715635\n",
            "Speedup: 31.469404343551357 times\n"
          ],
          "name": "stdout"
        }
      ]
    },
    {
      "cell_type": "markdown",
      "metadata": {
        "id": "2ey9gRTTFyA5"
      },
      "source": [
        "Ở ví dụ trên: \n",
        "- `Q = rearrange(Q, \"N n_head d_k -> n_head N d_k\")` tương đương với `Q.transpose(0, 1)`\n",
        "- String `hnd,hmd->hnm` mô tả phép tính với 2 tensor, ở đây là tensor `Q` và `K`\n",
        "- `Q` có shape `(n_head N d_k)`, viết tắt là `hnd`\n",
        "- `K` có shape `(n_head M d_k)`, viết tắt là `hmd`\n",
        "- `similar_score` được tính bằng cách thực hiện dot-product trên trục `d_k`, kết quả là tensor có shape `(n_head N M)` viết tắt là `hnm` và nằm bên phải dấu `->`\n",
        "\n",
        "Bạn cũng có thể sử dụng hoàn toàn `einsum` như sau (nếu đã thành thạo `einsum`)"
      ]
    },
    {
      "cell_type": "code",
      "metadata": {
        "id": "6TlUFIpTFyA6",
        "colab": {
          "base_uri": "https://localhost:8080/"
        },
        "outputId": "acde5e28-de1f-4e82-ec80-17d41cb86671"
      },
      "source": [
        "def heads_attention_with_einops2(Q, K, V, mask):\n",
        "    \"\"\"Attentionn on a many queries and many heads\n",
        "    Arguments:\n",
        "        Q: torch.Tensor shape (N, n_head, d_k)\n",
        "        K: torch.Tensor shape (M, n_head, d_k)\n",
        "        V: torch.Tensor shape (M, n_head, d_v)\n",
        "        mask: torch.Tensor shape (N, M)\n",
        "        where mask[i, j] = True means K[j] was masked for Q[i]\n",
        "        \n",
        "    Return:\n",
        "        scaled-dot attention: torch.Tensor shape (N, n_head, d_v)\n",
        "    \"\"\"\n",
        "    N, n_head, d_k = Q.shape\n",
        "    similar_score = torch.einsum('nhd,mhd->hnm', Q, K) / (d_k ** 0.5)\n",
        "    similar_score = similar_score.masked_fill(mask, value=float(\"-inf\"))\n",
        "    attention_weight = F.softmax(similar_score, dim=-1)\n",
        "    attentions = torch.einsum('hnm, mhd->nhd', attention_weight, V)\n",
        "    return attentions\n",
        "\n",
        "generator = a2_generator()\n",
        "benchmark(generator, slow_heads_attention, heads_attention_with_einops2)"
      ],
      "execution_count": 121,
      "outputs": [
        {
          "output_type": "stream",
          "text": [
            "Your outputs is correct\n",
            "Timing of slow function:  AVG: 0.015659263134002687+-0.0021192540845667747\n",
            "Timing of fast function:  AVG: 0.00035736560821533205+-3.367232615968997e-05\n",
            "Speedup: 43.818606978450866 times\n"
          ],
          "name": "stdout"
        }
      ]
    },
    {
      "cell_type": "markdown",
      "metadata": {
        "id": "VhEj5O7ZFyA6"
      },
      "source": [
        "Tốc độ của `einsum` và `rearrange` ngang với cách implement broadcasting.\n",
        "\n",
        "Bây giờ đến lượt bạn, hãy hoàn thành hàm `multi_head_attention_einops` sử dụng `einsum` và `rearrange` như ví dụ trên nhé ! \n",
        "\n",
        "Gợi ý: Chỉ cần thêm 1 dimension `b` trong einops là thực hiện được !"
      ]
    },
    {
      "cell_type": "code",
      "metadata": {
        "id": "Snewd4hQFyA7"
      },
      "source": [
        "def multi_head_attention_einops(Q, K, V, mask):\n",
        "    \"\"\"Multi-head attention on a batch of Q, K, V\n",
        "    Arguments:\n",
        "        Q: torch.Tensor shape (B, N, n_head, d_k)\n",
        "        K: torch.Tensor shape (B, M, n_head, d_k)\n",
        "        V: torch.Tensor shape (B, M, n_head, d_v)\n",
        "        mask: torch.BoolTensor shape (B, N, M)\n",
        "        where mask[i] is `mask` for attention of record i: (Q[i], K[i], V[i])\n",
        "        \n",
        "    Return:\n",
        "        scaled-dot attention: torch.Tensor shape (B, N, n_head d_v)\n",
        "    \"\"\"\n",
        "    B, N, n_head, d_k = Q.shape\n",
        "    ########### YOUR CODE HERE #################\n",
        "    similar_score = torch.einsum('bnhd,bmhd->bhnm', Q, K) / (d_k ** 0.5)\n",
        "    similar_score = similar_score.masked_fill(mask.unsqueeze(1), value=float(\"-inf\"))\n",
        "    attention_weight = F.softmax(similar_score, dim=-1)\n",
        "    attentions = torch.einsum('bhnm, bmhd->bnhd', attention_weight, V)\n",
        "    ###########################################\n",
        "    return attentions"
      ],
      "execution_count": 122,
      "outputs": []
    },
    {
      "cell_type": "code",
      "metadata": {
        "id": "7z1vseegFyA7",
        "colab": {
          "base_uri": "https://localhost:8080/"
        },
        "outputId": "197dbdfb-2e3d-41a8-81ae-62cce9692dd5"
      },
      "source": [
        "generator = a3_generator()\n",
        "benchmark(generator, slow_multi_head_attention, multi_head_attention_einops)"
      ],
      "execution_count": 123,
      "outputs": [
        {
          "output_type": "stream",
          "text": [
            "Your outputs is correct\n",
            "Timing of slow function:  AVG: 0.5073542499542236+-0.05127066185811598\n",
            "Timing of fast function:  AVG: 0.007057921886444092+-0.0001855992985277664\n",
            "Speedup: 71.88436739838131 times\n"
          ],
          "name": "stdout"
        }
      ]
    },
    {
      "cell_type": "markdown",
      "metadata": {
        "id": "OK3z9oJZFyA8"
      },
      "source": [
        "## Phần 2: Transformer Encoder\n",
        "\n",
        "Trong phần này, hàm `multi_head_attention` trong phần 1 sẽ được sử dụng để xây dựng mô hình Transformer Encoder & Transformer Decoder từ 3 module nhỏ là:\n",
        "  - AttentionAddNorm\n",
        "  - FeedForwardAddNorm\n",
        "  - Embedding\n",
        "  \n",
        "Sau đó xây dựng các TransformerBlock (tương tự như resnet) của Encoder và Decoder.\n",
        "![modules](https://raw.githubusercontent.com/Luvata/gifs/main/figures/modules.png)\n",
        "\n",
        "Tất cả các hyperparameters của model sẽ được lưu trong object `config`:"
      ]
    },
    {
      "cell_type": "code",
      "metadata": {
        "id": "MWIqWu7BFyA8"
      },
      "source": [
        "from dataclasses import dataclass\n",
        "\n",
        "@dataclass\n",
        "class TransformersConfig:\n",
        "    tgt_vocab_size = 20000\n",
        "    src_vocab_size = 20000\n",
        "    seq_len = 512\n",
        "    d_model = 512                # d_model = d_k * n_head\n",
        "    d_k = 64\n",
        "    d_v = 64\n",
        "    n_head = int(512 / 64)     \n",
        "    d_ff = 2048                  # Number of unit in feed-forward layer\n",
        "    num_encoder_layers = 2       # Number of TransformerEncoderBlock layer in Encoder\n",
        "    num_decoder_layers = 2       # Number of TransformerDecoderBlock layer in Decoder\n",
        "    attn_dropout = 0.1           # Dropout for residual add after multi-head attention\n",
        "    ff_dropout = 0.1             # Dropout for feed-forward residual add\n",
        "    embed_dropout = 0.1          # Dropout for embedding after augmented wih positional encoding\n",
        "    \n",
        "config = TransformersConfig()"
      ],
      "execution_count": 124,
      "outputs": []
    },
    {
      "cell_type": "code",
      "metadata": {
        "id": "K0cKdlNGHWH0",
        "colab": {
          "base_uri": "https://localhost:8080/"
        },
        "outputId": "fb41ab69-7b48-48f1-931a-262db875e0d2"
      },
      "source": [
        "print(\"Number of encoder layers: \", config.num_encoder_layers)"
      ],
      "execution_count": 125,
      "outputs": [
        {
          "output_type": "stream",
          "text": [
            "Number of encoder layers:  2\n"
          ],
          "name": "stdout"
        }
      ]
    },
    {
      "cell_type": "markdown",
      "metadata": {
        "id": "naqskDQcFyA9"
      },
      "source": [
        "Mô hình `TransformerEncoderDecoder`:\n",
        "\n",
        "<img src=\"https://raw.githubusercontent.com/Luvata/gifs/main/figures/encoder_decoder.svg\" alt=\"self_attention\" style=\"width:70%\">\n",
        "\n",
        "Bạn sẽ xây dựng `TransformerEncoder` chi tiết như sau (với 2 block `EncoderBlock`):\n",
        "<img src=\"https://raw.githubusercontent.com/Luvata/gifs/main/figures/encoder_decoder_maximize_encoder.svg\" alt=\"self_attention\" style=\"width:70%\">"
      ]
    },
    {
      "cell_type": "markdown",
      "metadata": {
        "id": "9WDqlQNrFyA9"
      },
      "source": [
        "### 2.1 FeedforwardAddNorm\n",
        "\n",
        "Trong phần này bạn sẽ hoàn thành module `FeedForwardAddNorm` với chiều `forward` như sau\n",
        "\n",
        "<img src=\"https://raw.githubusercontent.com/Luvata/gifs/main/figures/feed_forward_add_norm.svg\" alt=\"feed_forward_add_norm\" style=\"height:30%\">\n",
        "\n",
        "\n",
        "Với ảnh trên:\n",
        "- `inp_1` là output của `AttentionAddNorm`, có shape `(B, seq_len, d_model)`\n",
        "- `linear1` có shape $\\mathbb{R}^{d_{model} \\times  d_{ff}}$\n",
        "- `linear2` có shape $\\mathbb{R}^{d_{ff} \\times  d_{model}}$\n",
        "\n",
        "  \n",
        "Bạn cần:\n",
        "- Khai báo các thành phần của module `FeedForwardAddNorm` trong `__init__`:\n",
        "  - https://pytorch.org/docs/stable/generated/torch.nn.Linear.html\n",
        "  - https://pytorch.org/docs/stable/generated/torch.nn.ReLU.html\n",
        "  - https://pytorch.org/docs/stable/generated/torch.nn.Dropout.html\n",
        "  - https://pytorch.org/docs/stable/generated/torch.nn.LayerNorm.html\n",
        "- Khai báo chiều forward giống với ảnh trên.\n",
        "- Sử dụng các parameters `ff_dropout`, `d_ff`, `d_model` có trong config.\n"
      ]
    },
    {
      "cell_type": "code",
      "metadata": {
        "id": "w05QkKKeFyA9"
      },
      "source": [
        "class FeedForwardAddNorm(nn.Module):\n",
        "    def __init__(self, config):\n",
        "        super().__init__()\n",
        "        self.linear1 = None\n",
        "        self.activation = None\n",
        "        self.linear2 = None\n",
        "        self.dropout = None\n",
        "        self.layer_norm = None\n",
        "        ########### YOUR CODE HERE #################\n",
        "        self.linear1 = nn.Linear(config.d_model, config.d_ff)\n",
        "        self.activation = nn.ReLU()\n",
        "        self.linear2 = nn.Linear(config.d_ff, config.d_model)\n",
        "        self.dropout = nn.Dropout(config.ff_dropout)\n",
        "        self.layer_norm = nn.LayerNorm(config.d_model)\n",
        "        ###########################################\n",
        "        \n",
        "    def forward(self, input):\n",
        "        ########### YOUR CODE HERE #################\n",
        "        x = input\n",
        "        x = self.activation(self.linear1(x))\n",
        "        x = self.dropout(self.linear2(x))\n",
        "        x = self.layer_norm(x + input)\n",
        "        return x\n",
        "        ###########################################\n",
        "        pass"
      ],
      "execution_count": 126,
      "outputs": []
    },
    {
      "cell_type": "code",
      "metadata": {
        "id": "64KGEJ8qFyA-",
        "colab": {
          "base_uri": "https://localhost:8080/",
          "height": 935
        },
        "outputId": "b330f5b1-9918-4b30-a2f4-e71ab1f7605e"
      },
      "source": [
        "\"\"\"Simple test\"\"\"\n",
        "ff = FeedForwardAddNorm(config)\n",
        "print(ff)\n",
        "inps = torch.randn(batch_size, config.seq_len, config.d_model)\n",
        "outs = ff(inps)\n",
        "assert outs.shape == inps.shape\n",
        "d = display_module(ff, inps)\n",
        "d"
      ],
      "execution_count": 127,
      "outputs": [
        {
          "output_type": "stream",
          "text": [
            "FeedForwardAddNorm(\n",
            "  (linear1): Linear(in_features=512, out_features=2048, bias=True)\n",
            "  (activation): ReLU()\n",
            "  (linear2): Linear(in_features=2048, out_features=512, bias=True)\n",
            "  (dropout): Dropout(p=0.1, inplace=False)\n",
            "  (layer_norm): LayerNorm((512,), eps=1e-05, elementwise_affine=True)\n",
            ")\n",
            "aten::add %input : Float(32:262144, 512:512, 512:1, requires_grad=1, device=cpu) = aten::add(%62, %input.1, %31) # <ipython-input-126-c92ebd179e52>:22:0\n",
            "\n"
          ],
          "name": "stdout"
        },
        {
          "output_type": "execute_result",
          "data": {
            "text/plain": [
              "<graphviz.dot.Digraph at 0x7f5009b478d0>"
            ],
            "image/svg+xml": "<?xml version=\"1.0\" encoding=\"UTF-8\" standalone=\"no\"?>\n<!DOCTYPE svg PUBLIC \"-//W3C//DTD SVG 1.1//EN\"\n \"http://www.w3.org/Graphics/SVG/1.1/DTD/svg11.dtd\">\n<!-- Generated by graphviz version 2.40.1 (20161225.0304)\n -->\n<!-- Title: %3 Pages: 1 -->\n<svg width=\"196pt\" height=\"571pt\"\n viewBox=\"0.00 0.00 196.00 571.00\" xmlns=\"http://www.w3.org/2000/svg\" xmlns:xlink=\"http://www.w3.org/1999/xlink\">\n<g id=\"graph0\" class=\"graph\" transform=\"scale(1 1) rotate(0) translate(4 567)\">\n<title>%3</title>\n<polygon fill=\"#ffffff\" stroke=\"transparent\" points=\"-4,4 -4,-567 192,-567 192,4 -4,4\"/>\n<text text-anchor=\"middle\" x=\"94\" y=\"-547.8\" font-family=\"Times,serif\" font-size=\"14.00\" fill=\"#000000\">FeedForwardAddNorm</text>\n<!-- inp_input.1 -->\n<g id=\"node1\" class=\"node\">\n<title>inp_input.1</title>\n<ellipse fill=\"none\" stroke=\"#000000\" cx=\"108\" cy=\"-522\" rx=\"54.6905\" ry=\"18\"/>\n<text text-anchor=\"middle\" x=\"108\" y=\"-518.3\" font-family=\"Times,serif\" font-size=\"14.00\" fill=\"#000000\">inp_input.1</text>\n</g>\n<!-- .59 -->\n<g id=\"node2\" class=\"node\">\n<title>.59</title>\n<polygon fill=\"none\" stroke=\"#000000\" points=\"120.5,-468 15.5,-468 15.5,-432 120.5,-432 120.5,-468\"/>\n<text text-anchor=\"middle\" x=\"68\" y=\"-446.3\" font-family=\"Times,serif\" font-size=\"14.00\" fill=\"#000000\">linear1 (Linear)</text>\n</g>\n<!-- inp_input.1&#45;&gt;.59 -->\n<g id=\"edge1\" class=\"edge\">\n<title>inp_input.1&#45;&gt;.59</title>\n<path fill=\"none\" stroke=\"#000000\" d=\"M98.1124,-504.2022C93.5316,-495.9569 87.9904,-485.9828 82.9167,-476.8501\"/>\n<polygon fill=\"#000000\" stroke=\"#000000\" points=\"85.9678,-475.1349 78.0517,-468.0931 79.8487,-478.5345 85.9678,-475.1349\"/>\n</g>\n<!-- input -->\n<g id=\"node7\" class=\"node\">\n<title>input</title>\n<path fill=\"none\" stroke=\"#000000\" d=\"M122,-180C122,-180 92,-180 92,-180 86,-180 80,-174 80,-168 80,-168 80,-156 80,-156 80,-150 86,-144 92,-144 92,-144 122,-144 122,-144 128,-144 134,-150 134,-156 134,-156 134,-168 134,-168 134,-174 128,-180 122,-180\"/>\n<text text-anchor=\"middle\" x=\"107\" y=\"-158.3\" font-family=\"Times,serif\" font-size=\"14.00\" fill=\"#000000\">add</text>\n</g>\n<!-- inp_input.1&#45;&gt;input -->\n<g id=\"edge6\" class=\"edge\">\n<title>inp_input.1&#45;&gt;input</title>\n<path fill=\"none\" stroke=\"#000000\" d=\"M117.3313,-503.9025C130.2471,-477.1296 152,-425.0538 152,-378 152,-378 152,-378 152,-306 152,-265.1184 146.1851,-254.697 133,-216 129.9278,-206.9835 125.728,-197.5101 121.5999,-189.0596\"/>\n<polygon fill=\"#000000\" stroke=\"#000000\" points=\"124.6705,-187.3758 117.0335,-180.0323 118.4242,-190.5354 124.6705,-187.3758\"/>\n</g>\n<!-- .60 -->\n<g id=\"node3\" class=\"node\">\n<title>.60</title>\n<polygon fill=\"none\" stroke=\"#000000\" points=\"124,-396 4,-396 4,-360 124,-360 124,-396\"/>\n<text text-anchor=\"middle\" x=\"64\" y=\"-374.3\" font-family=\"Times,serif\" font-size=\"14.00\" fill=\"#000000\">activation (ReLU)</text>\n</g>\n<!-- .59&#45;&gt;.60 -->\n<g id=\"edge2\" class=\"edge\">\n<title>.59&#45;&gt;.60</title>\n<path fill=\"none\" stroke=\"#000000\" d=\"M66.9906,-431.8314C66.5628,-424.131 66.0541,-414.9743 65.5787,-406.4166\"/>\n<polygon fill=\"#000000\" stroke=\"#000000\" points=\"69.0724,-406.2037 65.023,-396.4133 62.0831,-406.592 69.0724,-406.2037\"/>\n</g>\n<!-- .61 -->\n<g id=\"node4\" class=\"node\">\n<title>.61</title>\n<polygon fill=\"none\" stroke=\"#000000\" points=\"115.5,-324 10.5,-324 10.5,-288 115.5,-288 115.5,-324\"/>\n<text text-anchor=\"middle\" x=\"63\" y=\"-302.3\" font-family=\"Times,serif\" font-size=\"14.00\" fill=\"#000000\">linear2 (Linear)</text>\n</g>\n<!-- .60&#45;&gt;.61 -->\n<g id=\"edge3\" class=\"edge\">\n<title>.60&#45;&gt;.61</title>\n<path fill=\"none\" stroke=\"#000000\" d=\"M63.7477,-359.8314C63.6407,-352.131 63.5135,-342.9743 63.3947,-334.4166\"/>\n<polygon fill=\"#000000\" stroke=\"#000000\" points=\"66.8944,-334.3637 63.2557,-324.4133 59.8951,-334.4609 66.8944,-334.3637\"/>\n</g>\n<!-- .62 -->\n<g id=\"node5\" class=\"node\">\n<title>.62</title>\n<polygon fill=\"none\" stroke=\"#000000\" points=\"124,-252 0,-252 0,-216 124,-216 124,-252\"/>\n<text text-anchor=\"middle\" x=\"62\" y=\"-230.3\" font-family=\"Times,serif\" font-size=\"14.00\" fill=\"#000000\">dropout (Dropout)</text>\n</g>\n<!-- .61&#45;&gt;.62 -->\n<g id=\"edge4\" class=\"edge\">\n<title>.61&#45;&gt;.62</title>\n<path fill=\"none\" stroke=\"#000000\" d=\"M62.7477,-287.8314C62.6407,-280.131 62.5135,-270.9743 62.3947,-262.4166\"/>\n<polygon fill=\"#000000\" stroke=\"#000000\" points=\"65.8944,-262.3637 62.2557,-252.4133 58.8951,-262.4609 65.8944,-262.3637\"/>\n</g>\n<!-- .62&#45;&gt;input -->\n<g id=\"edge5\" class=\"edge\">\n<title>.62&#45;&gt;input</title>\n<path fill=\"none\" stroke=\"#000000\" d=\"M73.3554,-215.8314C78.4326,-207.7079 84.5227,-197.9637 90.1176,-189.0118\"/>\n<polygon fill=\"#000000\" stroke=\"#000000\" points=\"93.1597,-190.7483 95.4917,-180.4133 87.2237,-187.0383 93.1597,-190.7483\"/>\n</g>\n<!-- .63 -->\n<g id=\"node6\" class=\"node\">\n<title>.63</title>\n<polygon fill=\"none\" stroke=\"#000000\" points=\"188,-108 26,-108 26,-72 188,-72 188,-108\"/>\n<text text-anchor=\"middle\" x=\"107\" y=\"-86.3\" font-family=\"Times,serif\" font-size=\"14.00\" fill=\"#000000\">layer_norm (LayerNorm)</text>\n</g>\n<!-- out_0 -->\n<g id=\"node8\" class=\"node\">\n<title>out_0</title>\n<ellipse fill=\"none\" stroke=\"#000000\" cx=\"107\" cy=\"-18\" rx=\"32.4942\" ry=\"18\"/>\n<text text-anchor=\"middle\" x=\"107\" y=\"-14.3\" font-family=\"Times,serif\" font-size=\"14.00\" fill=\"#000000\">out_0</text>\n</g>\n<!-- .63&#45;&gt;out_0 -->\n<g id=\"edge8\" class=\"edge\">\n<title>.63&#45;&gt;out_0</title>\n<path fill=\"none\" stroke=\"#000000\" d=\"M107,-71.8314C107,-64.131 107,-54.9743 107,-46.4166\"/>\n<polygon fill=\"#000000\" stroke=\"#000000\" points=\"110.5001,-46.4132 107,-36.4133 103.5001,-46.4133 110.5001,-46.4132\"/>\n</g>\n<!-- input&#45;&gt;.63 -->\n<g id=\"edge7\" class=\"edge\">\n<title>input&#45;&gt;.63</title>\n<path fill=\"none\" stroke=\"#000000\" d=\"M107,-143.8314C107,-136.131 107,-126.9743 107,-118.4166\"/>\n<polygon fill=\"#000000\" stroke=\"#000000\" points=\"110.5001,-118.4132 107,-108.4133 103.5001,-118.4133 110.5001,-118.4132\"/>\n</g>\n</g>\n</svg>\n"
          },
          "metadata": {
            "tags": []
          },
          "execution_count": 127
        }
      ]
    },
    {
      "cell_type": "markdown",
      "metadata": {
        "id": "M58EEB69FyA-"
      },
      "source": [
        "### 2.2 AttentionAddNorm\n",
        "\n",
        "Trong phần này bạn sẽ hoàn thành module `AttentionAddNorm` với chiều `forward` như sau:\n",
        "<img src=\"https://raw.githubusercontent.com/Luvata/gifs/main/figures/attention_add_norm.svg\" alt=\"self_attention\" style=\"width:50%\">\n",
        "\n",
        "Với ảnh trên:\n",
        "- `inp_input.1`, `inp_input.2` và `inp_input.3` đều có shape `(B, seq_len, d_model)`, ứng với `query`, `key`, `value`.\n",
        "- `inp_mask` là mask của attention, có shape `(B, seq_len, seq_len)`.\n",
        "- `Q_proj`, `K_proj`, `V_proj` là các `nn.Linear`  $\\mathbb{R}^{d_{model} \\times  d_{model}}$, tương ứng của `query`, `key` và `value` đầu vào.\n",
        "- Sau khi qua các projection này, cần reshape (split head) các tensor đó thành `(B, seq_len, n_head, d_k)` trước khi qua `multi_head_attention`.\n",
        "- `div matmul pow softmaxmasked_fill` là khi gọi `multi_head_attention`.\n",
        "- Trước khi residual `add`, cần reshape kết quả sau khi dropout về cùng shape với `query`.\n",
        "\n",
        "Bạn cần:\n",
        "- Khai báo các thành phần của module `AttentionAddNorm`.\n",
        "- Khai báo chiều forward.\n",
        "- Sử dụng các parameters `seq_len`, `d_model`, `n_head`, `d_k`, `attn_dropout` có trong config."
      ]
    },
    {
      "cell_type": "code",
      "metadata": {
        "id": "KVEnc3IYFyA_"
      },
      "source": [
        "class AttentionAddNorm(nn.Module):\n",
        "    def __init__(self, config):\n",
        "        super().__init__()\n",
        "        self.config = config\n",
        "        self.Q_proj = None\n",
        "        self.K_proj = None\n",
        "        self.V_proj = None\n",
        "        self.dropout = None\n",
        "        self.layer_norm = None\n",
        "        ########### YOUR CODE HERE #################\n",
        "        # seq_len = 512\n",
        "        # d_model = 512                # d_model = d_k * n_head\n",
        "        # d_k = 64\n",
        "        # d_v = 64\n",
        "        self.Q_proj = nn.Linear(config.d_model, config.d_model)\n",
        "        self.K_proj = nn.Linear(config.d_model, config.d_model)\n",
        "        self.V_proj = nn.Linear(config.d_model, config.d_model)\n",
        "        self.dropout = nn.Dropout(config.attn_dropout)\n",
        "        self.layer_norm = nn.LayerNorm(config.d_model)\n",
        "        ###########################################\n",
        "        \n",
        "    def forward(self, query, key, value, mask):\n",
        "        ########### YOUR CODE HERE #################\n",
        "        config = self.config\n",
        "        q = self.Q_proj(query)\n",
        "        q = rearrange(q, 'b n (h d)->b n h d', d=config.d_k)\n",
        "        k = self.K_proj(key)\n",
        "        k = rearrange(k, 'b m (h d)->b m h d', d=config.d_k)\n",
        "        v = self.V_proj(value)\n",
        "        v = rearrange(v, 'b m (h d)->b m h d', d=config.d_v)\n",
        "\n",
        "        attn = multi_head_attention_einops(q, k, v, mask)\n",
        "        attn = rearrange(self.dropout(attn), 'b n h d->b n (h d)')\n",
        "        x = query + attn\n",
        "        x = self.layer_norm(x)\n",
        "        return x\n",
        "        ###########################################\n",
        "        pass"
      ],
      "execution_count": 128,
      "outputs": []
    },
    {
      "cell_type": "code",
      "metadata": {
        "id": "S96Eb7FeFyA_",
        "colab": {
          "base_uri": "https://localhost:8080/",
          "height": 1000
        },
        "outputId": "9cf3752a-c2ae-4198-e457-c05bc5ec3b57"
      },
      "source": [
        "\"\"\"Simple test\"\"\"\n",
        "aa = AttentionAddNorm(config)\n",
        "print(aa)\n",
        "q = torch.randn(batch_size, config.seq_len, config.d_model)\n",
        "k = torch.randn(batch_size, config.seq_len, config.d_model)\n",
        "v = torch.randn(batch_size, config.seq_len, config.d_model)\n",
        "mask = torch.randint(low=0, high=32, size=(batch_size, config.seq_len, config.seq_len)).eq(3)\n",
        "\n",
        "outs = aa(q, k, v, mask)\n",
        "assert outs.shape == q.shape\n",
        "\n",
        "d = display_module(aa, [q, k, v, mask])\n",
        "d"
      ],
      "execution_count": 129,
      "outputs": [
        {
          "output_type": "stream",
          "text": [
            "AttentionAddNorm(\n",
            "  (Q_proj): Linear(in_features=512, out_features=512, bias=True)\n",
            "  (K_proj): Linear(in_features=512, out_features=512, bias=True)\n",
            "  (V_proj): Linear(in_features=512, out_features=512, bias=True)\n",
            "  (dropout): Dropout(p=0.1, inplace=False)\n",
            "  (layer_norm): LayerNorm((512,), eps=1e-05, elementwise_affine=True)\n",
            ")\n",
            "aten::einsum %167 : Float(32:2097152, 8:262144, 512:512, 512:1, requires_grad=1, device=cpu) = aten::einsum(%165, %166) # /usr/local/lib/python3.7/dist-packages/torch/functional.py:344:0\n",
            "\n",
            "aten::div %similar_score : Float(32:2097152, 8:262144, 512:512, 512:1, requires_grad=1, device=cpu) = aten::div(%167, %169) # <ipython-input-122-648187ef7de4>:15:0\n",
            "\n",
            "aten::masked_fill %input.4 : Float(32:2097152, 8:262144, 512:512, 512:1, requires_grad=1, device=cpu) = aten::masked_fill(%similar_score, %172, %173) # <ipython-input-122-648187ef7de4>:16:0\n",
            "\n",
            "aten::softmax %177 : Float(32:2097152, 8:262144, 512:512, 512:1, requires_grad=1, device=cpu) = aten::softmax(%input.4, %175, %176) # /usr/local/lib/python3.7/dist-packages/torch/nn/functional.py:1512:0\n",
            "\n",
            "aten::einsum %input.5 : Float(32:262144, 512:64, 8:32768, 64:1, requires_grad=1, device=cpu) = aten::einsum(%178, %179) # /usr/local/lib/python3.7/dist-packages/torch/functional.py:344:0\n",
            "\n",
            "aten::add %input : Float(32:262144, 512:512, 512:1, requires_grad=1, device=cpu) = aten::add(%input.1, %attn, %228) # <ipython-input-128-6a98f398e28b>:34:0\n",
            "\n"
          ],
          "name": "stdout"
        },
        {
          "output_type": "execute_result",
          "data": {
            "text/plain": [
              "<graphviz.dot.Digraph at 0x7f5009542cd0>"
            ],
            "image/svg+xml": "<?xml version=\"1.0\" encoding=\"UTF-8\" standalone=\"no\"?>\n<!DOCTYPE svg PUBLIC \"-//W3C//DTD SVG 1.1//EN\"\n \"http://www.w3.org/Graphics/SVG/1.1/DTD/svg11.dtd\">\n<!-- Generated by graphviz version 2.40.1 (20161225.0304)\n -->\n<!-- Title: %3 Pages: 1 -->\n<svg width=\"544pt\" height=\"501pt\"\n viewBox=\"0.00 0.00 543.60 501.00\" xmlns=\"http://www.w3.org/2000/svg\" xmlns:xlink=\"http://www.w3.org/1999/xlink\">\n<g id=\"graph0\" class=\"graph\" transform=\"scale(1 1) rotate(0) translate(4 497)\">\n<title>%3</title>\n<polygon fill=\"#ffffff\" stroke=\"transparent\" points=\"-4,4 -4,-497 539.5952,-497 539.5952,4 -4,4\"/>\n<text text-anchor=\"middle\" x=\"267.7976\" y=\"-477.8\" font-family=\"Times,serif\" font-size=\"14.00\" fill=\"#000000\">AttentionAddNorm</text>\n<!-- inp_input.1 -->\n<g id=\"node1\" class=\"node\">\n<title>inp_input.1</title>\n<ellipse fill=\"none\" stroke=\"#000000\" cx=\"132\" cy=\"-452\" rx=\"54.6905\" ry=\"18\"/>\n<text text-anchor=\"middle\" x=\"132\" y=\"-448.3\" font-family=\"Times,serif\" font-size=\"14.00\" fill=\"#000000\">inp_input.1</text>\n</g>\n<!-- .258 -->\n<g id=\"node5\" class=\"node\">\n<title>.258</title>\n<polygon fill=\"none\" stroke=\"#000000\" points=\"283.5,-398 176.5,-398 176.5,-362 283.5,-362 283.5,-398\"/>\n<text text-anchor=\"middle\" x=\"230\" y=\"-376.3\" font-family=\"Times,serif\" font-size=\"14.00\" fill=\"#000000\">Q_proj (Linear)</text>\n</g>\n<!-- inp_input.1&#45;&gt;.258 -->\n<g id=\"edge1\" class=\"edge\">\n<title>inp_input.1&#45;&gt;.258</title>\n<path fill=\"none\" stroke=\"#000000\" d=\"M154.7295,-435.3008C167.2786,-426.081 183.0915,-414.4634 196.9807,-404.2591\"/>\n<polygon fill=\"#000000\" stroke=\"#000000\" points=\"199.3472,-406.8636 205.3337,-398.1222 195.2026,-401.2224 199.3472,-406.8636\"/>\n</g>\n<!-- input -->\n<g id=\"node11\" class=\"node\">\n<title>input</title>\n<path fill=\"none\" stroke=\"#000000\" d=\"M96,-180C96,-180 66,-180 66,-180 60,-180 54,-174 54,-168 54,-168 54,-156 54,-156 54,-150 60,-144 66,-144 66,-144 96,-144 96,-144 102,-144 108,-150 108,-156 108,-156 108,-168 108,-168 108,-174 102,-180 96,-180\"/>\n<text text-anchor=\"middle\" x=\"81\" y=\"-158.3\" font-family=\"Times,serif\" font-size=\"14.00\" fill=\"#000000\">add</text>\n</g>\n<!-- inp_input.1&#45;&gt;input -->\n<g id=\"edge10\" class=\"edge\">\n<title>inp_input.1&#45;&gt;input</title>\n<path fill=\"none\" stroke=\"#000000\" d=\"M98.35,-437.629C82.11,-428.7649 64.1915,-415.6725 55,-398 19.4719,-329.6901 49.6336,-235.4181 68.5376,-189.4401\"/>\n<polygon fill=\"#000000\" stroke=\"#000000\" points=\"71.8044,-190.7013 72.4867,-180.1285 65.36,-187.9682 71.8044,-190.7013\"/>\n</g>\n<!-- inp_input.2 -->\n<g id=\"node2\" class=\"node\">\n<title>inp_input.2</title>\n<ellipse fill=\"none\" stroke=\"#000000\" cx=\"354\" cy=\"-452\" rx=\"54.6905\" ry=\"18\"/>\n<text text-anchor=\"middle\" x=\"354\" y=\"-448.3\" font-family=\"Times,serif\" font-size=\"14.00\" fill=\"#000000\">inp_input.2</text>\n</g>\n<!-- .259 -->\n<g id=\"node6\" class=\"node\">\n<title>.259</title>\n<polygon fill=\"none\" stroke=\"#000000\" points=\"408.5,-398 301.5,-398 301.5,-362 408.5,-362 408.5,-398\"/>\n<text text-anchor=\"middle\" x=\"355\" y=\"-376.3\" font-family=\"Times,serif\" font-size=\"14.00\" fill=\"#000000\">K_proj (Linear)</text>\n</g>\n<!-- inp_input.2&#45;&gt;.259 -->\n<g id=\"edge2\" class=\"edge\">\n<title>inp_input.2&#45;&gt;.259</title>\n<path fill=\"none\" stroke=\"#000000\" d=\"M354.2523,-433.8314C354.3593,-426.131 354.4865,-416.9743 354.6053,-408.4166\"/>\n<polygon fill=\"#000000\" stroke=\"#000000\" points=\"358.1049,-408.4609 354.7443,-398.4133 351.1056,-408.3637 358.1049,-408.4609\"/>\n</g>\n<!-- inp_input.3 -->\n<g id=\"node3\" class=\"node\">\n<title>inp_input.3</title>\n<ellipse fill=\"none\" stroke=\"#000000\" cx=\"481\" cy=\"-452\" rx=\"54.6905\" ry=\"18\"/>\n<text text-anchor=\"middle\" x=\"481\" y=\"-448.3\" font-family=\"Times,serif\" font-size=\"14.00\" fill=\"#000000\">inp_input.3</text>\n</g>\n<!-- .260 -->\n<g id=\"node7\" class=\"node\">\n<title>.260</title>\n<polygon fill=\"none\" stroke=\"#000000\" points=\"534.5,-398 427.5,-398 427.5,-362 534.5,-362 534.5,-398\"/>\n<text text-anchor=\"middle\" x=\"481\" y=\"-376.3\" font-family=\"Times,serif\" font-size=\"14.00\" fill=\"#000000\">V_proj (Linear)</text>\n</g>\n<!-- inp_input.3&#45;&gt;.260 -->\n<g id=\"edge3\" class=\"edge\">\n<title>inp_input.3&#45;&gt;.260</title>\n<path fill=\"none\" stroke=\"#000000\" d=\"M481,-433.8314C481,-426.131 481,-416.9743 481,-408.4166\"/>\n<polygon fill=\"#000000\" stroke=\"#000000\" points=\"484.5001,-408.4132 481,-398.4133 477.5001,-408.4133 484.5001,-408.4132\"/>\n</g>\n<!-- inp_mask -->\n<g id=\"node4\" class=\"node\">\n<title>inp_mask</title>\n<ellipse fill=\"none\" stroke=\"#000000\" cx=\"111\" cy=\"-380\" rx=\"47.3916\" ry=\"18\"/>\n<text text-anchor=\"middle\" x=\"111\" y=\"-376.3\" font-family=\"Times,serif\" font-size=\"14.00\" fill=\"#000000\">inp_mask</text>\n</g>\n<!-- input.5 -->\n<g id=\"node9\" class=\"node\">\n<title>input.5</title>\n<path fill=\"none\" stroke=\"#000000\" d=\"M284.5,-326C284.5,-326 175.5,-326 175.5,-326 169.5,-326 163.5,-320 163.5,-314 163.5,-314 163.5,-300 163.5,-300 163.5,-294 169.5,-288 175.5,-288 175.5,-288 284.5,-288 284.5,-288 290.5,-288 296.5,-294 296.5,-300 296.5,-300 296.5,-314 296.5,-314 296.5,-320 290.5,-326 284.5,-326\"/>\n<text text-anchor=\"middle\" x=\"230\" y=\"-310.8\" font-family=\"Times,serif\" font-size=\"14.00\" fill=\"#000000\">masked_fill softmax</text>\n<text text-anchor=\"middle\" x=\"230\" y=\"-295.8\" font-family=\"Times,serif\" font-size=\"14.00\" fill=\"#000000\">pow div einsum</text>\n</g>\n<!-- inp_mask&#45;&gt;input.5 -->\n<g id=\"edge5\" class=\"edge\">\n<title>inp_mask&#45;&gt;input.5</title>\n<path fill=\"none\" stroke=\"#000000\" d=\"M136.2368,-364.5186C151.8071,-354.967 172.1261,-342.5025 189.8668,-331.6196\"/>\n<polygon fill=\"#000000\" stroke=\"#000000\" points=\"192.1764,-334.3089 198.8702,-326.0965 188.516,-328.3421 192.1764,-334.3089\"/>\n</g>\n<!-- .258&#45;&gt;input.5 -->\n<g id=\"edge4\" class=\"edge\">\n<title>.258&#45;&gt;input.5</title>\n<path fill=\"none\" stroke=\"#000000\" d=\"M230,-361.9551C230,-354.2107 230,-344.9622 230,-336.2811\"/>\n<polygon fill=\"#000000\" stroke=\"#000000\" points=\"233.5001,-336.1128 230,-326.1128 226.5001,-336.1129 233.5001,-336.1128\"/>\n</g>\n<!-- .259&#45;&gt;input.5 -->\n<g id=\"edge7\" class=\"edge\">\n<title>.259&#45;&gt;input.5</title>\n<path fill=\"none\" stroke=\"#000000\" d=\"M324.1011,-361.9551C308.2172,-352.6789 288.638,-341.2446 271.4595,-331.2124\"/>\n<polygon fill=\"#000000\" stroke=\"#000000\" points=\"273.1278,-328.1335 262.7275,-326.1128 269.5977,-334.1782 273.1278,-328.1335\"/>\n</g>\n<!-- .260&#45;&gt;input.5 -->\n<g id=\"edge6\" class=\"edge\">\n<title>.260&#45;&gt;input.5</title>\n<path fill=\"none\" stroke=\"#000000\" d=\"M427.4621,-364.4292C391.8909,-354.0838 344.6702,-340.3503 305.3256,-328.9074\"/>\n<polygon fill=\"#000000\" stroke=\"#000000\" points=\"306.0839,-325.483 295.5043,-326.051 304.129,-332.2045 306.0839,-325.483\"/>\n</g>\n<!-- .261 -->\n<g id=\"node8\" class=\"node\">\n<title>.261</title>\n<polygon fill=\"none\" stroke=\"#000000\" points=\"240,-252 116,-252 116,-216 240,-216 240,-252\"/>\n<text text-anchor=\"middle\" x=\"178\" y=\"-230.3\" font-family=\"Times,serif\" font-size=\"14.00\" fill=\"#000000\">dropout (Dropout)</text>\n</g>\n<!-- .261&#45;&gt;input -->\n<g id=\"edge9\" class=\"edge\">\n<title>.261&#45;&gt;input</title>\n<path fill=\"none\" stroke=\"#000000\" d=\"M153.5228,-215.8314C141.4605,-206.8779 126.746,-195.9558 113.7314,-186.2955\"/>\n<polygon fill=\"#000000\" stroke=\"#000000\" points=\"115.5852,-183.3127 105.4694,-180.1628 111.413,-188.9335 115.5852,-183.3127\"/>\n</g>\n<!-- input.5&#45;&gt;.261 -->\n<g id=\"edge8\" class=\"edge\">\n<title>input.5&#45;&gt;.261</title>\n<path fill=\"none\" stroke=\"#000000\" d=\"M216.3376,-287.8201C210.4087,-279.4968 203.3655,-269.6093 196.9437,-260.594\"/>\n<polygon fill=\"#000000\" stroke=\"#000000\" points=\"199.6863,-258.4116 191.0337,-252.2973 193.9849,-262.4729 199.6863,-258.4116\"/>\n</g>\n<!-- .262 -->\n<g id=\"node10\" class=\"node\">\n<title>.262</title>\n<polygon fill=\"none\" stroke=\"#000000\" points=\"162,-108 0,-108 0,-72 162,-72 162,-108\"/>\n<text text-anchor=\"middle\" x=\"81\" y=\"-86.3\" font-family=\"Times,serif\" font-size=\"14.00\" fill=\"#000000\">layer_norm (LayerNorm)</text>\n</g>\n<!-- out_0 -->\n<g id=\"node12\" class=\"node\">\n<title>out_0</title>\n<ellipse fill=\"none\" stroke=\"#000000\" cx=\"81\" cy=\"-18\" rx=\"32.4942\" ry=\"18\"/>\n<text text-anchor=\"middle\" x=\"81\" y=\"-14.3\" font-family=\"Times,serif\" font-size=\"14.00\" fill=\"#000000\">out_0</text>\n</g>\n<!-- .262&#45;&gt;out_0 -->\n<g id=\"edge12\" class=\"edge\">\n<title>.262&#45;&gt;out_0</title>\n<path fill=\"none\" stroke=\"#000000\" d=\"M81,-71.8314C81,-64.131 81,-54.9743 81,-46.4166\"/>\n<polygon fill=\"#000000\" stroke=\"#000000\" points=\"84.5001,-46.4132 81,-36.4133 77.5001,-46.4133 84.5001,-46.4132\"/>\n</g>\n<!-- input&#45;&gt;.262 -->\n<g id=\"edge11\" class=\"edge\">\n<title>input&#45;&gt;.262</title>\n<path fill=\"none\" stroke=\"#000000\" d=\"M81,-143.8314C81,-136.131 81,-126.9743 81,-118.4166\"/>\n<polygon fill=\"#000000\" stroke=\"#000000\" points=\"84.5001,-118.4132 81,-108.4133 77.5001,-118.4133 84.5001,-118.4132\"/>\n</g>\n</g>\n</svg>\n"
          },
          "metadata": {
            "tags": []
          },
          "execution_count": 129
        }
      ]
    },
    {
      "cell_type": "markdown",
      "metadata": {
        "id": "12J4Lz7CFyBA"
      },
      "source": [
        "### 2.3 EncoderBlock\n",
        "\n",
        "Một Transformer Encoder (giống với resnet) sẽ gồm nhiều `EncoderBlock` lặp lại, trong phần này bạn sẽ thực hiện `EncoderBlock` với chiều forward như sau:\n",
        "\n",
        "<img src=\"https://raw.githubusercontent.com/Luvata/gifs/main/figures/encoder_block.svg\" alt=\"encoder_block\" style=\"height:40%\">\n",
        "\n",
        "trong đó `self_attention` là module `AttentionAddNorm` bên trên, khi forward nhận `query`, `key` và `value` đều là 1 tensor:\n",
        "<img src=\"https://raw.githubusercontent.com/Luvata/gifs/main/figures/encoder_block_self_attention.svg\" alt=\"self_attention\" style=\"width:90%\">\n",
        "\n",
        "Với ảnh trên:\n",
        "- Một `EncoderBlock` gồm 2 thành phần: \n",
        "  - `self_attention` là module `AttentionAddNorm`, với `query`, `key` và `value` đều từ 1 tensor đầu vào `inp_1`\n",
        "  - `feed_forward` là module `FeedForwardAddNorm`, nhận đầu vào là output của `self_attention`\n",
        "- `inp_1` là output của `EncoderBlock` trước, hoặc output của `Embedding`, có shape `(B, seq_len, d_model)`, trong phần forward là `src_embeddings`.\n",
        "- `inp_mask.1` là mask của các token `PAD` của sequences đầu vào, có shape `(B, seq_len, seq_len)`, trong phần forward là `src_masks`.\n",
        "\n",
        "Bạn cần:\n",
        "- Khai báo các thành phần của module `EncoderBlock`.\n",
        "- Khai báo chiều forward."
      ]
    },
    {
      "cell_type": "code",
      "metadata": {
        "id": "qT_NifNiFyBA"
      },
      "source": [
        "class EncoderBlock(nn.Module):\n",
        "    def __init__(self, config):\n",
        "        super().__init__()\n",
        "        self.self_attention = None\n",
        "        self.feed_forward   = None\n",
        "        ########### YOUR CODE HERE #################\n",
        "        self.self_attention = AttentionAddNorm(config)\n",
        "        self.feed_forward   = FeedForwardAddNorm(config)\n",
        "        ###########################################\n",
        "        \n",
        "    def forward(self, src_embeddings, src_masks):\n",
        "        ########### YOUR CODE HERE #################\n",
        "        x = src_embeddings\n",
        "        x = self.self_attention(x, x, x, src_masks)\n",
        "        return x\n",
        "        ###########################################\n",
        "        pass"
      ],
      "execution_count": 130,
      "outputs": []
    },
    {
      "cell_type": "code",
      "metadata": {
        "id": "0UtDHX5fFyBB",
        "colab": {
          "base_uri": "https://localhost:8080/",
          "height": 1000
        },
        "outputId": "784162c6-e0d5-4cef-eee9-390a45e506f7"
      },
      "source": [
        "\"\"\"Simple test\"\"\"\n",
        "block = EncoderBlock(config)\n",
        "src_embedding = torch.randn(batch_size, config.seq_len, config.d_model)\n",
        "src_mask = torch.randint(low=0, high=32, size=(batch_size, config.seq_len, config.seq_len)).eq(3)\n",
        "\n",
        "outs = block(src_embedding, src_mask)\n",
        "assert outs.shape == src_embedding.shape\n",
        "d = display_module(block, [src_embedding, src_mask], classes_to_visit={\"AttentionAddNorm\"})\n",
        "d"
      ],
      "execution_count": 131,
      "outputs": [
        {
          "output_type": "stream",
          "text": [
            "aten::einsum %141 : Float(32:2097152, 8:262144, 512:512, 512:1, requires_grad=1, device=cpu) = aten::einsum(%139, %140), scope: __module.self_attention # /usr/local/lib/python3.7/dist-packages/torch/functional.py:344:0\n",
            "\n",
            "aten::div %similar_score : Float(32:2097152, 8:262144, 512:512, 512:1, requires_grad=1, device=cpu) = aten::div(%141, %143), scope: __module.self_attention # <ipython-input-122-648187ef7de4>:15:0\n",
            "\n",
            "aten::masked_fill %input.2 : Float(32:2097152, 8:262144, 512:512, 512:1, requires_grad=1, device=cpu) = aten::masked_fill(%similar_score, %146, %148), scope: __module.self_attention # <ipython-input-122-648187ef7de4>:16:0\n",
            "\n",
            "aten::softmax %152 : Float(32:2097152, 8:262144, 512:512, 512:1, requires_grad=1, device=cpu) = aten::softmax(%input.2, %150, %151), scope: __module.self_attention # /usr/local/lib/python3.7/dist-packages/torch/nn/functional.py:1512:0\n",
            "\n",
            "aten::einsum %input.3 : Float(32:262144, 512:64, 8:32768, 64:1, requires_grad=1, device=cpu) = aten::einsum(%153, %154), scope: __module.self_attention # /usr/local/lib/python3.7/dist-packages/torch/functional.py:344:0\n",
            "\n",
            "aten::add %input : Float(32:262144, 512:512, 512:1, requires_grad=1, device=cpu) = aten::add(%input.1, %attn, %201), scope: __module.self_attention # <ipython-input-128-6a98f398e28b>:34:0\n",
            "\n"
          ],
          "name": "stdout"
        },
        {
          "output_type": "execute_result",
          "data": {
            "text/plain": [
              "<graphviz.dot.Digraph at 0x7f500f4b9590>"
            ],
            "image/svg+xml": "<?xml version=\"1.0\" encoding=\"UTF-8\" standalone=\"no\"?>\n<!DOCTYPE svg PUBLIC \"-//W3C//DTD SVG 1.1//EN\"\n \"http://www.w3.org/Graphics/SVG/1.1/DTD/svg11.dtd\">\n<!-- Generated by graphviz version 2.40.1 (20161225.0304)\n -->\n<!-- Title: %3 Pages: 1 -->\n<svg width=\"970pt\" height=\"648pt\"\n viewBox=\"0.00 0.00 970.45 648.00\" xmlns=\"http://www.w3.org/2000/svg\" xmlns:xlink=\"http://www.w3.org/1999/xlink\">\n<g id=\"graph0\" class=\"graph\" transform=\"scale(1 1) rotate(0) translate(4 644)\">\n<title>%3</title>\n<polygon fill=\"#ffffff\" stroke=\"transparent\" points=\"-4,4 -4,-644 966.4458,-644 966.4458,4 -4,4\"/>\n<text text-anchor=\"middle\" x=\"481.2229\" y=\"-624.8\" font-family=\"Times,serif\" font-size=\"14.00\" fill=\"#000000\">EncoderBlock</text>\n<g id=\"clust1\" class=\"cluster\">\n<title>cluster_.279</title>\n<polygon fill=\"none\" stroke=\"#000000\" points=\"8,-64 8,-573 860,-573 860,-64 8,-64\"/>\n<text text-anchor=\"middle\" x=\"434\" y=\"-557.8\" font-family=\"Times,serif\" font-size=\"14.00\" fill=\"#000000\">self_attention (AttentionAddNorm)</text>\n</g>\n<!-- inp_input.1 -->\n<g id=\"node1\" class=\"node\">\n<title>inp_input.1</title>\n<ellipse fill=\"none\" stroke=\"#000000\" cx=\"419\" cy=\"-599\" rx=\"54.6905\" ry=\"18\"/>\n<text text-anchor=\"middle\" x=\"419\" y=\"-595.3\" font-family=\"Times,serif\" font-size=\"14.00\" fill=\"#000000\">inp_input.1</text>\n</g>\n<!-- self_attention.inp_input.1 -->\n<g id=\"node3\" class=\"node\">\n<title>self_attention.inp_input.1</title>\n<ellipse fill=\"none\" stroke=\"#000000\" cx=\"419\" cy=\"-524\" rx=\"106.6812\" ry=\"18\"/>\n<text text-anchor=\"middle\" x=\"419\" y=\"-520.3\" font-family=\"Times,serif\" font-size=\"14.00\" fill=\"#000000\">self_attention.inp_input.1</text>\n</g>\n<!-- inp_input.1&#45;&gt;self_attention.inp_input.1 -->\n<g id=\"edge1\" class=\"edge\">\n<title>inp_input.1&#45;&gt;self_attention.inp_input.1</title>\n<path fill=\"none\" stroke=\"#000000\" d=\"M419,-580.8446C419,-572.3401 419,-562.0076 419,-552.4964\"/>\n<polygon fill=\"#000000\" stroke=\"#000000\" points=\"422.5001,-552.2481 419,-542.2482 415.5001,-552.2482 422.5001,-552.2481\"/>\n</g>\n<!-- inp_mask -->\n<g id=\"node2\" class=\"node\">\n<title>inp_mask</title>\n<ellipse fill=\"none\" stroke=\"#000000\" cx=\"915\" cy=\"-524\" rx=\"47.3916\" ry=\"18\"/>\n<text text-anchor=\"middle\" x=\"915\" y=\"-520.3\" font-family=\"Times,serif\" font-size=\"14.00\" fill=\"#000000\">inp_mask</text>\n</g>\n<!-- self_attention.inp_mask -->\n<g id=\"node4\" class=\"node\">\n<title>self_attention.inp_mask</title>\n<ellipse fill=\"none\" stroke=\"#000000\" cx=\"753\" cy=\"-452\" rx=\"99.3824\" ry=\"18\"/>\n<text text-anchor=\"middle\" x=\"753\" y=\"-448.3\" font-family=\"Times,serif\" font-size=\"14.00\" fill=\"#000000\">self_attention.inp_mask</text>\n</g>\n<!-- inp_mask&#45;&gt;self_attention.inp_mask -->\n<g id=\"edge2\" class=\"edge\">\n<title>inp_mask&#45;&gt;self_attention.inp_mask</title>\n<path fill=\"none\" stroke=\"#000000\" d=\"M884.1477,-510.2879C860.3329,-499.7035 826.9832,-484.8814 799.8743,-472.833\"/>\n<polygon fill=\"#000000\" stroke=\"#000000\" points=\"801.1313,-469.5616 790.5716,-468.6985 798.2883,-475.9583 801.1313,-469.5616\"/>\n</g>\n<!-- self_attention..204 -->\n<g id=\"node5\" class=\"node\">\n<title>self_attention..204</title>\n<polygon fill=\"none\" stroke=\"#000000\" points=\"410,-470 222,-470 222,-434 410,-434 410,-470\"/>\n<text text-anchor=\"middle\" x=\"316\" y=\"-448.3\" font-family=\"Times,serif\" font-size=\"14.00\" fill=\"#000000\">self_attention.Q_proj (Linear)</text>\n</g>\n<!-- self_attention.inp_input.1&#45;&gt;self_attention..204 -->\n<g id=\"edge3\" class=\"edge\">\n<title>self_attention.inp_input.1&#45;&gt;self_attention..204</title>\n<path fill=\"none\" stroke=\"#000000\" d=\"M393.8034,-506.3868C380.7828,-497.2851 364.6959,-486.0399 350.5354,-476.1412\"/>\n<polygon fill=\"#000000\" stroke=\"#000000\" points=\"352.2134,-473.0439 342.012,-470.1832 348.2029,-478.7811 352.2134,-473.0439\"/>\n</g>\n<!-- self_attention..205 -->\n<g id=\"node6\" class=\"node\">\n<title>self_attention..205</title>\n<polygon fill=\"none\" stroke=\"#000000\" points=\"616,-470 428,-470 428,-434 616,-434 616,-470\"/>\n<text text-anchor=\"middle\" x=\"522\" y=\"-448.3\" font-family=\"Times,serif\" font-size=\"14.00\" fill=\"#000000\">self_attention.K_proj (Linear)</text>\n</g>\n<!-- self_attention.inp_input.1&#45;&gt;self_attention..205 -->\n<g id=\"edge4\" class=\"edge\">\n<title>self_attention.inp_input.1&#45;&gt;self_attention..205</title>\n<path fill=\"none\" stroke=\"#000000\" d=\"M444.1966,-506.3868C457.2172,-497.2851 473.3041,-486.0399 487.4646,-476.1412\"/>\n<polygon fill=\"#000000\" stroke=\"#000000\" points=\"489.7971,-478.7811 495.988,-470.1832 485.7866,-473.0439 489.7971,-478.7811\"/>\n</g>\n<!-- self_attention..206 -->\n<g id=\"node7\" class=\"node\">\n<title>self_attention..206</title>\n<polygon fill=\"none\" stroke=\"#000000\" points=\"204,-470 16,-470 16,-434 204,-434 204,-470\"/>\n<text text-anchor=\"middle\" x=\"110\" y=\"-448.3\" font-family=\"Times,serif\" font-size=\"14.00\" fill=\"#000000\">self_attention.V_proj (Linear)</text>\n</g>\n<!-- self_attention.inp_input.1&#45;&gt;self_attention..206 -->\n<g id=\"edge5\" class=\"edge\">\n<title>self_attention.inp_input.1&#45;&gt;self_attention..206</title>\n<path fill=\"none\" stroke=\"#000000\" d=\"M356.0968,-509.3429C310.3553,-498.6847 247.8494,-484.1202 197.279,-472.3368\"/>\n<polygon fill=\"#000000\" stroke=\"#000000\" points=\"197.8659,-468.8799 187.3325,-470.0192 196.2774,-475.6973 197.8659,-468.8799\"/>\n</g>\n<!-- self_attention.input -->\n<g id=\"node11\" class=\"node\">\n<title>self_attention.input</title>\n<path fill=\"none\" stroke=\"#000000\" d=\"M589,-252C589,-252 559,-252 559,-252 553,-252 547,-246 547,-240 547,-240 547,-228 547,-228 547,-222 553,-216 559,-216 559,-216 589,-216 589,-216 595,-216 601,-222 601,-228 601,-228 601,-240 601,-240 601,-246 595,-252 589,-252\"/>\n<text text-anchor=\"middle\" x=\"574\" y=\"-230.3\" font-family=\"Times,serif\" font-size=\"14.00\" fill=\"#000000\">add</text>\n</g>\n<!-- self_attention.inp_input.1&#45;&gt;self_attention.input -->\n<g id=\"edge11\" class=\"edge\">\n<title>self_attention.inp_input.1&#45;&gt;self_attention.input</title>\n<path fill=\"none\" stroke=\"#000000\" d=\"M501.955,-512.6966C552.2519,-503.9518 609.6127,-489.9407 625,-470 649.7081,-437.9803 639.9422,-325.583 625,-288 620.7324,-277.2659 613.2069,-267.4321 605.2261,-259.1828\"/>\n<polygon fill=\"#000000\" stroke=\"#000000\" points=\"607.4779,-256.4921 597.8491,-252.072 602.6199,-261.5319 607.4779,-256.4921\"/>\n</g>\n<!-- self_attention.input.3 -->\n<g id=\"node9\" class=\"node\">\n<title>self_attention.input.3</title>\n<path fill=\"none\" stroke=\"#000000\" d=\"M568.5,-398C568.5,-398 459.5,-398 459.5,-398 453.5,-398 447.5,-392 447.5,-386 447.5,-386 447.5,-372 447.5,-372 447.5,-366 453.5,-360 459.5,-360 459.5,-360 568.5,-360 568.5,-360 574.5,-360 580.5,-366 580.5,-372 580.5,-372 580.5,-386 580.5,-386 580.5,-392 574.5,-398 568.5,-398\"/>\n<text text-anchor=\"middle\" x=\"514\" y=\"-382.8\" font-family=\"Times,serif\" font-size=\"14.00\" fill=\"#000000\">masked_fill softmax</text>\n<text text-anchor=\"middle\" x=\"514\" y=\"-367.8\" font-family=\"Times,serif\" font-size=\"14.00\" fill=\"#000000\">pow div einsum</text>\n</g>\n<!-- self_attention.inp_mask&#45;&gt;self_attention.input.3 -->\n<g id=\"edge7\" class=\"edge\">\n<title>self_attention.inp_mask&#45;&gt;self_attention.input.3</title>\n<path fill=\"none\" stroke=\"#000000\" d=\"M702.0217,-436.4292C668.2946,-426.1276 623.5688,-412.4666 586.201,-401.053\"/>\n<polygon fill=\"#000000\" stroke=\"#000000\" points=\"586.9589,-397.6249 576.3726,-398.051 584.914,-404.3196 586.9589,-397.6249\"/>\n</g>\n<!-- self_attention..204&#45;&gt;self_attention.input.3 -->\n<g id=\"edge6\" class=\"edge\">\n<title>self_attention..204&#45;&gt;self_attention.input.3</title>\n<path fill=\"none\" stroke=\"#000000\" d=\"M364.9438,-433.9551C391.3734,-424.2108 424.2621,-412.0852 452.4168,-401.7049\"/>\n<polygon fill=\"#000000\" stroke=\"#000000\" points=\"453.9878,-404.8561 462.1597,-398.1128 451.5663,-398.2882 453.9878,-404.8561\"/>\n</g>\n<!-- self_attention..205&#45;&gt;self_attention.input.3 -->\n<g id=\"edge9\" class=\"edge\">\n<title>self_attention..205&#45;&gt;self_attention.input.3</title>\n<path fill=\"none\" stroke=\"#000000\" d=\"M520.0225,-433.9551C519.1738,-426.2107 518.1602,-416.9622 517.2089,-408.2811\"/>\n<polygon fill=\"#000000\" stroke=\"#000000\" points=\"520.6632,-407.672 516.0946,-398.1128 513.7048,-408.4346 520.6632,-407.672\"/>\n</g>\n<!-- self_attention..206&#45;&gt;self_attention.input.3 -->\n<g id=\"edge8\" class=\"edge\">\n<title>self_attention..206&#45;&gt;self_attention.input.3</title>\n<path fill=\"none\" stroke=\"#000000\" d=\"M204.2102,-434.9769C275.1788,-422.1533 371.2508,-404.7938 437.4982,-392.8233\"/>\n<polygon fill=\"#000000\" stroke=\"#000000\" points=\"438.2391,-396.2462 447.4574,-391.0238 436.9944,-389.3578 438.2391,-396.2462\"/>\n</g>\n<!-- self_attention..207 -->\n<g id=\"node8\" class=\"node\">\n<title>self_attention..207</title>\n<polygon fill=\"none\" stroke=\"#000000\" points=\"616,-324 412,-324 412,-288 616,-288 616,-324\"/>\n<text text-anchor=\"middle\" x=\"514\" y=\"-302.3\" font-family=\"Times,serif\" font-size=\"14.00\" fill=\"#000000\">self_attention.dropout (Dropout)</text>\n</g>\n<!-- self_attention..207&#45;&gt;self_attention.input -->\n<g id=\"edge12\" class=\"edge\">\n<title>self_attention..207&#45;&gt;self_attention.input</title>\n<path fill=\"none\" stroke=\"#000000\" d=\"M529.1405,-287.8314C536.1217,-279.454 544.5391,-269.3531 552.1876,-260.1749\"/>\n<polygon fill=\"#000000\" stroke=\"#000000\" points=\"554.9425,-262.3362 558.6556,-252.4133 549.5649,-257.8548 554.9425,-262.3362\"/>\n</g>\n<!-- self_attention.input.3&#45;&gt;self_attention..207 -->\n<g id=\"edge10\" class=\"edge\">\n<title>self_attention.input.3&#45;&gt;self_attention..207</title>\n<path fill=\"none\" stroke=\"#000000\" d=\"M514,-359.8201C514,-352.0975 514,-343.0282 514,-334.5585\"/>\n<polygon fill=\"#000000\" stroke=\"#000000\" points=\"517.5001,-334.2973 514,-324.2973 510.5001,-334.2974 517.5001,-334.2973\"/>\n</g>\n<!-- self_attention..208 -->\n<g id=\"node10\" class=\"node\">\n<title>self_attention..208</title>\n<polygon fill=\"none\" stroke=\"#000000\" points=\"695,-180 453,-180 453,-144 695,-144 695,-180\"/>\n<text text-anchor=\"middle\" x=\"574\" y=\"-158.3\" font-family=\"Times,serif\" font-size=\"14.00\" fill=\"#000000\">self_attention.layer_norm (LayerNorm)</text>\n</g>\n<!-- self_attention.out_0 -->\n<g id=\"node12\" class=\"node\">\n<title>self_attention.out_0</title>\n<ellipse fill=\"none\" stroke=\"#000000\" cx=\"574\" cy=\"-90\" rx=\"85.2851\" ry=\"18\"/>\n<text text-anchor=\"middle\" x=\"574\" y=\"-86.3\" font-family=\"Times,serif\" font-size=\"14.00\" fill=\"#000000\">self_attention.out_0</text>\n</g>\n<!-- self_attention..208&#45;&gt;self_attention.out_0 -->\n<g id=\"edge14\" class=\"edge\">\n<title>self_attention..208&#45;&gt;self_attention.out_0</title>\n<path fill=\"none\" stroke=\"#000000\" d=\"M574,-143.8314C574,-136.131 574,-126.9743 574,-118.4166\"/>\n<polygon fill=\"#000000\" stroke=\"#000000\" points=\"577.5001,-118.4132 574,-108.4133 570.5001,-118.4133 577.5001,-118.4132\"/>\n</g>\n<!-- self_attention.input&#45;&gt;self_attention..208 -->\n<g id=\"edge13\" class=\"edge\">\n<title>self_attention.input&#45;&gt;self_attention..208</title>\n<path fill=\"none\" stroke=\"#000000\" d=\"M574,-215.8314C574,-208.131 574,-198.9743 574,-190.4166\"/>\n<polygon fill=\"#000000\" stroke=\"#000000\" points=\"577.5001,-190.4132 574,-180.4133 570.5001,-190.4133 577.5001,-190.4132\"/>\n</g>\n<!-- out_0 -->\n<g id=\"node13\" class=\"node\">\n<title>out_0</title>\n<ellipse fill=\"none\" stroke=\"#000000\" cx=\"574\" cy=\"-18\" rx=\"32.4942\" ry=\"18\"/>\n<text text-anchor=\"middle\" x=\"574\" y=\"-14.3\" font-family=\"Times,serif\" font-size=\"14.00\" fill=\"#000000\">out_0</text>\n</g>\n<!-- self_attention.out_0&#45;&gt;out_0 -->\n<g id=\"edge15\" class=\"edge\">\n<title>self_attention.out_0&#45;&gt;out_0</title>\n<path fill=\"none\" stroke=\"#000000\" d=\"M574,-71.8314C574,-64.131 574,-54.9743 574,-46.4166\"/>\n<polygon fill=\"#000000\" stroke=\"#000000\" points=\"577.5001,-46.4132 574,-36.4133 570.5001,-46.4133 577.5001,-46.4132\"/>\n</g>\n</g>\n</svg>\n"
          },
          "metadata": {
            "tags": []
          },
          "execution_count": 131
        }
      ]
    },
    {
      "cell_type": "markdown",
      "metadata": {
        "id": "l2eSvLvAFyBB"
      },
      "source": [
        "### 2.4 Embedding\n",
        "\n",
        "Trong phần này, bạn sẽ hoàn thành module `Embedding` trong Transformers. Module này gồm 2 thành phần:\n",
        "- `word_embedding`: là `nn.Embedding`, một token sau khi đi qua layer này sẽ được biểu diễn bằng 1 vector có độ dài  `d_model`. Trong transformer, vector này sau đó còn được scale với $\\sqrt{d_{model}}$\n",
        "- `positional_encoding`: Do attention là phép tính không phụ thuộc vào thứ tự, `positional_encoding` là ma trận `seq_len x d_model` được `cộng` vào embedding của từng token để thêm thông tin vị trí tuyệt đối của token trong câu.\n",
        "\n",
        "Trong phần này bạn cần:\n",
        "- Hoàn thành hàm `generate_positional_encoding` trả về ma trận `sinusoid`"
      ]
    },
    {
      "cell_type": "code",
      "metadata": {
        "id": "-3UaB7-mFyBB"
      },
      "source": [
        "def generate_positional_encoding(seq_len, d_model):\n",
        "    \"\"\" Return sinusoid matrix `pe` with shape seq_len x d_model\n",
        "    Arguments:\n",
        "        seq_len: max number of tokens for a sequence\n",
        "        d_model: length of vector position\n",
        "    Return:\n",
        "        pe: position encoding matrix in Vaswani et al,.\n",
        "        pe is a matrix with shape (seq_len, d_model)\n",
        "        and pe[pos_id, feat_id]\n",
        "         = sin(pos_id/10000^(feat_id / d_model)) if feat_id is even (0, 2, 4,...)\n",
        "         = cos(pos_id/10000^(feat_id / d_model)) if feat_id is odd  (1, 3, 5,...)\n",
        "    \"\"\"\n",
        "    pe = None\n",
        "    ########### YOUR CODE HERE #################\n",
        "    pe = torch.zeros(seq_len, d_model)\n",
        "    position = torch.arange(0, seq_len, dtype=torch.float).unsqueeze(1)\n",
        "    div_term = torch.exp(torch.arange(0, d_model, 2).float() * (-np.log(10000.0) / d_model))\n",
        "    pe[:, 0::2] = torch.sin(position * div_term)\n",
        "    pe[:, 1::2] = torch.cos(position * div_term)\n",
        "    ###########################################\n",
        "    return pe"
      ],
      "execution_count": 132,
      "outputs": []
    },
    {
      "cell_type": "code",
      "metadata": {
        "id": "AIZO6yGeFyBC",
        "colab": {
          "base_uri": "https://localhost:8080/",
          "height": 219
        },
        "outputId": "9a49b29a-c045-44c3-e655-5f9eddedb715"
      },
      "source": [
        "\"\"\"Simple test\"\"\"\n",
        "pe = generate_positional_encoding(256, 512)\n",
        "assert pe.shape == (256, 512)\n",
        "assert pe[0, 0::2].sum() == 0 \n",
        "assert pe[0, 1::2].sum() == 512/2\n",
        "plt.imshow(pe)\n",
        "plt.show()"
      ],
      "execution_count": 133,
      "outputs": [
        {
          "output_type": "display_data",
          "data": {
            "image/png": "[encoded data removed]",
            "text/plain": [
              "<Figure size 432x288 with 1 Axes>"
            ]
          },
          "metadata": {
            "tags": [],
            "needs_background": "light"
          }
        }
      ]
    },
    {
      "cell_type": "markdown",
      "metadata": {
        "id": "b3P5r_rqFyBD"
      },
      "source": [
        "Module `Embedding` sẽ có chiều forward như sau:\n",
        "<img src=\"https://raw.githubusercontent.com/Luvata/gifs/main/figures/embedding.svg\" alt=\"embedding\" style=\"height:50%\">"
      ]
    },
    {
      "cell_type": "markdown",
      "metadata": {
        "id": "ASmfiVKmFyBD"
      },
      "source": [
        "Trong ảnh trên:\n",
        "- `inp_input.1` là torch.LongTensor ids của tokens câu đầu vào, có shape (B, seq_len)\n",
        "- `word_embedding` là [nn.Embedding](https://pytorch.org/docs/stable/generated/torch.nn.Module.html#torch.nn.Module.register_buffer), nhận\n",
        "- `mul add` là việc scale kết quả của word_embedding với $\\sqrt{d_{model}}$, sau đó cộng `element-wise` với `positional_encoding`\n",
        "- tensor `positional_encoding` sinh từ hàm `generate_positional_encoding`, chỉ khởi tạo **1 lần** trong `__init__`\n",
        "- tensor `positional_encoding` sẽ **không cập nhật** trong quá trình học, do vậy để lưu lại tensor này vào module `state_dict` nhưng không coi là một parameter để học, cần sử dụng [register_buffer](https://pytorch.org/docs/stable/generated/torch.nn.Module.html#torch.nn.Module.register_buffer). Đọc thêm [pytorch forums](https://discuss.pytorch.org/t/what-is-the-difference-between-register-buffer-and-register-parameter-of-nn-module/32723/2)"
      ]
    },
    {
      "cell_type": "code",
      "metadata": {
        "id": "Oj6_vm0eFyBD"
      },
      "source": [
        "class Embedding(nn.Module):\n",
        "    def __init__(self, seq_len, d_model, vocab_size, embed_dropout):\n",
        "        super().__init__()\n",
        "        self.word_embedding = nn.Embedding(vocab_size, d_model)\n",
        "        positional_encoding = (\n",
        "            torch.tensor(\n",
        "                generate_positional_encoding(seq_len, d_model), requires_grad=False\n",
        "            )\n",
        "            .float()\n",
        "            .unsqueeze(0)\n",
        "        )  # (1, seq_len, d_model), to broadcasting add with (B, seq_len, d_model)\n",
        "        self.register_buffer(\"positional_encoding\", positional_encoding)\n",
        "        self.dropout = nn.Dropout(embed_dropout)\n",
        "        self.scale = d_model ** 0.5\n",
        "\n",
        "    def forward(self, src_ids: torch.LongTensor):\n",
        "        \"\"\"Get embeddings with positional information from tokens ids\n",
        "        Arguments:\n",
        "            src_ids: torch.LongTensor shape (b, seq_len)\n",
        "\n",
        "        Return:\n",
        "            embedding: torch.Tensor shape (b, seq_len, d_model)\n",
        "        \"\"\"\n",
        "        x = self.word_embedding(src_ids) * self.scale\n",
        "        x = x + self.positional_encoding\n",
        "        x = self.dropout(x)\n",
        "        return x"
      ],
      "execution_count": 134,
      "outputs": []
    },
    {
      "cell_type": "code",
      "metadata": {
        "id": "19FEs2NVFyBE",
        "colab": {
          "base_uri": "https://localhost:8080/",
          "height": 616
        },
        "outputId": "d96c4800-2d20-4f85-8506-fd6231ef5895"
      },
      "source": [
        "\"\"\"Simple test\"\"\"\n",
        "config = TransformersConfig()\n",
        "emb = Embedding(config.seq_len, config.d_model, config.src_vocab_size, config.embed_dropout)\n",
        "inp = torch.randint(low=0, high=config.src_vocab_size, size=(batch_size, config.seq_len))\n",
        "out = emb(inp)\n",
        "assert out.shape == (batch_size, config.seq_len, config.d_model)\n",
        "d = display_module(emb, inp)\n",
        "d"
      ],
      "execution_count": 135,
      "outputs": [
        {
          "output_type": "stream",
          "text": [
            "/usr/local/lib/python3.7/dist-packages/ipykernel_launcher.py:7: UserWarning: To copy construct from a tensor, it is recommended to use sourceTensor.clone().detach() or sourceTensor.clone().detach().requires_grad_(True), rather than torch.tensor(sourceTensor).\n",
            "  import sys\n"
          ],
          "name": "stderr"
        },
        {
          "output_type": "stream",
          "text": [
            "aten::mul %x : Float(32:262144, 512:512, 512:1, requires_grad=1, device=cpu) = aten::mul(%28, %13) # <ipython-input-134-26f70ab8b136>:24:0\n",
            "\n",
            "aten::add %input : Float(32:262144, 512:512, 512:1, requires_grad=1, device=cpu) = aten::add(%x, %24, %15) # <ipython-input-134-26f70ab8b136>:25:0\n",
            "\n"
          ],
          "name": "stdout"
        },
        {
          "output_type": "execute_result",
          "data": {
            "text/plain": [
              "<graphviz.dot.Digraph at 0x7f50094cb190>"
            ],
            "image/svg+xml": "<?xml version=\"1.0\" encoding=\"UTF-8\" standalone=\"no\"?>\n<!DOCTYPE svg PUBLIC \"-//W3C//DTD SVG 1.1//EN\"\n \"http://www.w3.org/Graphics/SVG/1.1/DTD/svg11.dtd\">\n<!-- Generated by graphviz version 2.40.1 (20161225.0304)\n -->\n<!-- Title: %3 Pages: 1 -->\n<svg width=\"207pt\" height=\"355pt\"\n viewBox=\"0.00 0.00 207.00 355.00\" xmlns=\"http://www.w3.org/2000/svg\" xmlns:xlink=\"http://www.w3.org/1999/xlink\">\n<g id=\"graph0\" class=\"graph\" transform=\"scale(1 1) rotate(0) translate(4 351)\">\n<title>%3</title>\n<polygon fill=\"#ffffff\" stroke=\"transparent\" points=\"-4,4 -4,-351 203,-351 203,4 -4,4\"/>\n<text text-anchor=\"middle\" x=\"99.5\" y=\"-331.8\" font-family=\"Times,serif\" font-size=\"14.00\" fill=\"#000000\">Embedding</text>\n<!-- inp_input.1 -->\n<g id=\"node1\" class=\"node\">\n<title>inp_input.1</title>\n<ellipse fill=\"none\" stroke=\"#000000\" cx=\"99.5\" cy=\"-306\" rx=\"54.6905\" ry=\"18\"/>\n<text text-anchor=\"middle\" x=\"99.5\" y=\"-302.3\" font-family=\"Times,serif\" font-size=\"14.00\" fill=\"#000000\">inp_input.1</text>\n</g>\n<!-- .28 -->\n<g id=\"node2\" class=\"node\">\n<title>.28</title>\n<polygon fill=\"none\" stroke=\"#000000\" points=\"199,-252 0,-252 0,-216 199,-216 199,-252\"/>\n<text text-anchor=\"middle\" x=\"99.5\" y=\"-230.3\" font-family=\"Times,serif\" font-size=\"14.00\" fill=\"#000000\">word_embedding (Embedding)</text>\n</g>\n<!-- inp_input.1&#45;&gt;.28 -->\n<g id=\"edge1\" class=\"edge\">\n<title>inp_input.1&#45;&gt;.28</title>\n<path fill=\"none\" stroke=\"#000000\" d=\"M99.5,-287.8314C99.5,-280.131 99.5,-270.9743 99.5,-262.4166\"/>\n<polygon fill=\"#000000\" stroke=\"#000000\" points=\"103.0001,-262.4132 99.5,-252.4133 96.0001,-262.4133 103.0001,-262.4132\"/>\n</g>\n<!-- input -->\n<g id=\"node4\" class=\"node\">\n<title>input</title>\n<path fill=\"none\" stroke=\"#000000\" d=\"M119.5,-180C119.5,-180 79.5,-180 79.5,-180 73.5,-180 67.5,-174 67.5,-168 67.5,-168 67.5,-156 67.5,-156 67.5,-150 73.5,-144 79.5,-144 79.5,-144 119.5,-144 119.5,-144 125.5,-144 131.5,-150 131.5,-156 131.5,-156 131.5,-168 131.5,-168 131.5,-174 125.5,-180 119.5,-180\"/>\n<text text-anchor=\"middle\" x=\"99.5\" y=\"-158.3\" font-family=\"Times,serif\" font-size=\"14.00\" fill=\"#000000\">mul add</text>\n</g>\n<!-- .28&#45;&gt;input -->\n<g id=\"edge2\" class=\"edge\">\n<title>.28&#45;&gt;input</title>\n<path fill=\"none\" stroke=\"#000000\" d=\"M99.5,-215.8314C99.5,-208.131 99.5,-198.9743 99.5,-190.4166\"/>\n<polygon fill=\"#000000\" stroke=\"#000000\" points=\"103.0001,-190.4132 99.5,-180.4133 96.0001,-190.4133 103.0001,-190.4132\"/>\n</g>\n<!-- .29 -->\n<g id=\"node3\" class=\"node\">\n<title>.29</title>\n<polygon fill=\"none\" stroke=\"#000000\" points=\"161.5,-108 37.5,-108 37.5,-72 161.5,-72 161.5,-108\"/>\n<text text-anchor=\"middle\" x=\"99.5\" y=\"-86.3\" font-family=\"Times,serif\" font-size=\"14.00\" fill=\"#000000\">dropout (Dropout)</text>\n</g>\n<!-- out_0 -->\n<g id=\"node5\" class=\"node\">\n<title>out_0</title>\n<ellipse fill=\"none\" stroke=\"#000000\" cx=\"99.5\" cy=\"-18\" rx=\"32.4942\" ry=\"18\"/>\n<text text-anchor=\"middle\" x=\"99.5\" y=\"-14.3\" font-family=\"Times,serif\" font-size=\"14.00\" fill=\"#000000\">out_0</text>\n</g>\n<!-- .29&#45;&gt;out_0 -->\n<g id=\"edge4\" class=\"edge\">\n<title>.29&#45;&gt;out_0</title>\n<path fill=\"none\" stroke=\"#000000\" d=\"M99.5,-71.8314C99.5,-64.131 99.5,-54.9743 99.5,-46.4166\"/>\n<polygon fill=\"#000000\" stroke=\"#000000\" points=\"103.0001,-46.4132 99.5,-36.4133 96.0001,-46.4133 103.0001,-46.4132\"/>\n</g>\n<!-- input&#45;&gt;.29 -->\n<g id=\"edge3\" class=\"edge\">\n<title>input&#45;&gt;.29</title>\n<path fill=\"none\" stroke=\"#000000\" d=\"M99.5,-143.8314C99.5,-136.131 99.5,-126.9743 99.5,-118.4166\"/>\n<polygon fill=\"#000000\" stroke=\"#000000\" points=\"103.0001,-118.4132 99.5,-108.4133 96.0001,-118.4133 103.0001,-118.4132\"/>\n</g>\n</g>\n</svg>\n"
          },
          "metadata": {
            "tags": []
          },
          "execution_count": 135
        }
      ]
    },
    {
      "cell_type": "markdown",
      "metadata": {
        "id": "Xgcdm411FyBE"
      },
      "source": [
        "### 2.5 TransformerEncoder\n",
        "\n",
        "`Embedding` và `EncoderBlock` là 2 thành phần chính tạo nên `TransformerEncoder`, trong phần này bạn sẽ hoàn thành module `TransformerEncoder` với chiều forward như sau (với config `config.num_encoder_layers = 2`):\n",
        "\n",
        "<img src=\"https://raw.githubusercontent.com/Luvata/gifs/main/figures/encoder.svg\" alt=\"encoder\" style=\"height750%\">"
      ]
    },
    {
      "cell_type": "markdown",
      "metadata": {
        "id": "sK_XRbchFyBF"
      },
      "source": [
        "Trong ảnh trên: \n",
        "- `blocks` là [nn.ModuleList](https://pytorch.org/docs/stable/generated/torch.nn.ModuleList.html), gồm `config.num_encoder_layers` các lớp `EncoderBlock` ở trên\n",
        "- `inp_input.1` là ids của các tokens đầu vào, shape `(B, seq_len)`\n",
        "- `inp_mask` là mask của token `PAD` trong `src_ids`, có shape `(B, seq_len, seq_len)`\n",
        "\n",
        "Bạn cần:\n",
        "- Khai báo các thành phần của module `TransformerEncoder`\n",
        "- Khai báo chiều forward giống với ảnh trên\n",
        "- Các parameters `seq_len`, `d_model`, `n_head`, `num_encoder_layers`, `src_vocab_size` đã có trong config"
      ]
    },
    {
      "cell_type": "code",
      "metadata": {
        "id": "izT0gMnSFyBF"
      },
      "source": [
        "class TransformerEncoder(nn.Module):\n",
        "    def __init__(self, config):\n",
        "        super().__init__()\n",
        "        self.embedding = None\n",
        "        self.blocks = nn.ModuleList([])\n",
        "        ########### YOUR CODE HERE #################\n",
        "        self.embedding = Embedding(config.seq_len, config.d_model, config.src_vocab_size, config.embed_dropout)\n",
        "        self.blocks = nn.ModuleList([EncoderBlock(config) for i in range(config.num_encoder_layers)]) \n",
        "        ###########################################\n",
        "\n",
        "    def forward(self, src_ids, src_mask):\n",
        "        ########### YOUR CODE HERE #################\n",
        "        x = self.embedding(src_ids)\n",
        "        for block in self.blocks:\n",
        "            x = block(x, src_mask)\n",
        "        return x\n",
        "        ###########################################\n"
      ],
      "execution_count": 136,
      "outputs": []
    },
    {
      "cell_type": "code",
      "metadata": {
        "id": "uO3n6dirFyBF",
        "colab": {
          "base_uri": "https://localhost:8080/",
          "height": 548
        },
        "outputId": "2ede8282-b445-409e-824c-35128502d6b8"
      },
      "source": [
        "\"\"\"Simple test\"\"\"\n",
        "config = TransformersConfig()\n",
        "inp = torch.randint(low=0, high=config.src_vocab_size, size=(batch_size, config.seq_len))\n",
        "mask = inp.eq(3).unsqueeze(1).repeat((1, config.seq_len, 1)) # For a sample, all queries (tokens) has same `PAD` mask, so repeat this mask N times\n",
        "encoder = TransformerEncoder(config)\n",
        "out = encoder(inp, mask)\n",
        "assert out.shape == (batch_size, config.seq_len, config.d_model)\n",
        "d = display_module(encoder, [inp, mask])\n",
        "d"
      ],
      "execution_count": 137,
      "outputs": [
        {
          "output_type": "stream",
          "text": [
            "/usr/local/lib/python3.7/dist-packages/ipykernel_launcher.py:7: UserWarning: To copy construct from a tensor, it is recommended to use sourceTensor.clone().detach() or sourceTensor.clone().detach().requires_grad_(True), rather than torch.tensor(sourceTensor).\n",
            "  import sys\n"
          ],
          "name": "stderr"
        },
        {
          "output_type": "execute_result",
          "data": {
            "text/plain": [
              "<graphviz.dot.Digraph at 0x7f500954ab50>"
            ],
            "image/svg+xml": "<?xml version=\"1.0\" encoding=\"UTF-8\" standalone=\"no\"?>\n<!DOCTYPE svg PUBLIC \"-//W3C//DTD SVG 1.1//EN\"\n \"http://www.w3.org/Graphics/SVG/1.1/DTD/svg11.dtd\">\n<!-- Generated by graphviz version 2.40.1 (20161225.0304)\n -->\n<!-- Title: %3 Pages: 1 -->\n<svg width=\"282pt\" height=\"355pt\"\n viewBox=\"0.00 0.00 281.95 355.00\" xmlns=\"http://www.w3.org/2000/svg\" xmlns:xlink=\"http://www.w3.org/1999/xlink\">\n<g id=\"graph0\" class=\"graph\" transform=\"scale(1 1) rotate(0) translate(4 351)\">\n<title>%3</title>\n<polygon fill=\"#ffffff\" stroke=\"transparent\" points=\"-4,4 -4,-351 277.9458,-351 277.9458,4 -4,4\"/>\n<text text-anchor=\"middle\" x=\"136.9729\" y=\"-331.8\" font-family=\"Times,serif\" font-size=\"14.00\" fill=\"#000000\">TransformerEncoder</text>\n<!-- inp_input.1 -->\n<g id=\"node1\" class=\"node\">\n<title>inp_input.1</title>\n<ellipse fill=\"none\" stroke=\"#000000\" cx=\"80.5\" cy=\"-306\" rx=\"54.6905\" ry=\"18\"/>\n<text text-anchor=\"middle\" x=\"80.5\" y=\"-302.3\" font-family=\"Times,serif\" font-size=\"14.00\" fill=\"#000000\">inp_input.1</text>\n</g>\n<!-- .598 -->\n<g id=\"node3\" class=\"node\">\n<title>.598</title>\n<polygon fill=\"none\" stroke=\"#000000\" points=\"161,-252 0,-252 0,-216 161,-216 161,-252\"/>\n<text text-anchor=\"middle\" x=\"80.5\" y=\"-230.3\" font-family=\"Times,serif\" font-size=\"14.00\" fill=\"#000000\">embedding (Embedding)</text>\n</g>\n<!-- inp_input.1&#45;&gt;.598 -->\n<g id=\"edge1\" class=\"edge\">\n<title>inp_input.1&#45;&gt;.598</title>\n<path fill=\"none\" stroke=\"#000000\" d=\"M80.5,-287.8314C80.5,-280.131 80.5,-270.9743 80.5,-262.4166\"/>\n<polygon fill=\"#000000\" stroke=\"#000000\" points=\"84.0001,-262.4132 80.5,-252.4133 77.0001,-262.4133 84.0001,-262.4132\"/>\n</g>\n<!-- inp_mask -->\n<g id=\"node2\" class=\"node\">\n<title>inp_mask</title>\n<ellipse fill=\"none\" stroke=\"#000000\" cx=\"226.5\" cy=\"-234\" rx=\"47.3916\" ry=\"18\"/>\n<text text-anchor=\"middle\" x=\"226.5\" y=\"-230.3\" font-family=\"Times,serif\" font-size=\"14.00\" fill=\"#000000\">inp_mask</text>\n</g>\n<!-- .599 -->\n<g id=\"node4\" class=\"node\">\n<title>.599</title>\n<polygon fill=\"none\" stroke=\"#000000\" points=\"198,-180 37,-180 37,-144 198,-144 198,-180\"/>\n<text text-anchor=\"middle\" x=\"117.5\" y=\"-158.3\" font-family=\"Times,serif\" font-size=\"14.00\" fill=\"#000000\">blocks.0 (EncoderBlock)</text>\n</g>\n<!-- inp_mask&#45;&gt;.599 -->\n<g id=\"edge3\" class=\"edge\">\n<title>inp_mask&#45;&gt;.599</title>\n<path fill=\"none\" stroke=\"#000000\" d=\"M202.8486,-218.3771C188.479,-208.8852 169.8432,-196.5753 153.6529,-185.8808\"/>\n<polygon fill=\"#000000\" stroke=\"#000000\" points=\"155.2256,-182.725 144.9525,-180.1338 151.3674,-188.5658 155.2256,-182.725\"/>\n</g>\n<!-- .600 -->\n<g id=\"node5\" class=\"node\">\n<title>.600</title>\n<polygon fill=\"none\" stroke=\"#000000\" points=\"252,-108 91,-108 91,-72 252,-72 252,-108\"/>\n<text text-anchor=\"middle\" x=\"171.5\" y=\"-86.3\" font-family=\"Times,serif\" font-size=\"14.00\" fill=\"#000000\">blocks.1 (EncoderBlock)</text>\n</g>\n<!-- inp_mask&#45;&gt;.600 -->\n<g id=\"edge5\" class=\"edge\">\n<title>inp_mask&#45;&gt;.600</title>\n<path fill=\"none\" stroke=\"#000000\" d=\"M224.7095,-215.8083C222.4112,-197.1875 217.4655,-167.7008 207.5,-144 203.5456,-134.5953 197.8848,-125.0879 192.2195,-116.727\"/>\n<polygon fill=\"#000000\" stroke=\"#000000\" points=\"195.0184,-114.6231 186.3853,-108.4815 189.3041,-118.6664 195.0184,-114.6231\"/>\n</g>\n<!-- .598&#45;&gt;.599 -->\n<g id=\"edge2\" class=\"edge\">\n<title>.598&#45;&gt;.599</title>\n<path fill=\"none\" stroke=\"#000000\" d=\"M89.8367,-215.8314C93.9243,-207.8771 98.8104,-198.369 103.3309,-189.5723\"/>\n<polygon fill=\"#000000\" stroke=\"#000000\" points=\"106.5799,-190.9074 108.0376,-180.4133 100.3539,-187.7078 106.5799,-190.9074\"/>\n</g>\n<!-- .599&#45;&gt;.600 -->\n<g id=\"edge4\" class=\"edge\">\n<title>.599&#45;&gt;.600</title>\n<path fill=\"none\" stroke=\"#000000\" d=\"M131.1265,-143.8314C137.346,-135.5386 144.8322,-125.557 151.66,-116.4533\"/>\n<polygon fill=\"#000000\" stroke=\"#000000\" points=\"154.49,-118.5133 157.69,-108.4133 148.89,-114.3133 154.49,-118.5133\"/>\n</g>\n<!-- out_0 -->\n<g id=\"node6\" class=\"node\">\n<title>out_0</title>\n<ellipse fill=\"none\" stroke=\"#000000\" cx=\"171.5\" cy=\"-18\" rx=\"32.4942\" ry=\"18\"/>\n<text text-anchor=\"middle\" x=\"171.5\" y=\"-14.3\" font-family=\"Times,serif\" font-size=\"14.00\" fill=\"#000000\">out_0</text>\n</g>\n<!-- .600&#45;&gt;out_0 -->\n<g id=\"edge6\" class=\"edge\">\n<title>.600&#45;&gt;out_0</title>\n<path fill=\"none\" stroke=\"#000000\" d=\"M171.5,-71.8314C171.5,-64.131 171.5,-54.9743 171.5,-46.4166\"/>\n<polygon fill=\"#000000\" stroke=\"#000000\" points=\"175.0001,-46.4132 171.5,-36.4133 168.0001,-46.4133 175.0001,-46.4132\"/>\n</g>\n</g>\n</svg>\n"
          },
          "metadata": {
            "tags": []
          },
          "execution_count": 137
        }
      ]
    },
    {
      "cell_type": "markdown",
      "metadata": {
        "id": "hE0PLx2xFyBG"
      },
      "source": [
        "Như vậy bạn đã hoàn thành `TransformerEncoder`. Bài tập sau bạn sẽ thực hiện xây dựng `TransformerDecoder` và `causal_mask`, đồng thời training mô hình dịch máy sử dụng `TransformerEncoderDecoder`"
      ]
    },
    {
      "cell_type": "markdown",
      "metadata": {
        "id": "cvMjvj-iX-vN"
      },
      "source": [
        "## References\n",
        "\n",
        "- Code để visualize phần foward [Thomas Viehmann - visualize-jit-models](https://github.com/t-vi/pytorch-tvmisc/blob/master/hacks/visualize-jit-models.ipynb)\n",
        "- Code & block ảnh hưởng nhiều từ project [Sasha Rush - The Annotated Transformer](https://nlp.seas.harvard.edu/2018/04/03/attention.html)\n",
        "- Ý tưởng config object từ [Andrej Karpathy - min-gpt](https://github.com/karpathy/minGPT/tree/master/mingpt)"
      ]
    }
  ]
}